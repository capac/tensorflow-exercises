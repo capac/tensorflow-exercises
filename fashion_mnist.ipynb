{
 "cells": [
  {
   "cell_type": "markdown",
   "metadata": {},
   "source": [
    "# Building an image classifier using the sequential API"
   ]
  },
  {
   "cell_type": "code",
   "execution_count": 1,
   "metadata": {},
   "outputs": [
    {
     "name": "stdout",
     "output_type": "stream",
     "text": [
      "TensorFlow version: 2.0.0\n",
      "Keras version: 2.2.4-tf\n"
     ]
    }
   ],
   "source": [
    "import tensorflow\n",
    "print(f'TensorFlow version: {tensorflow.__version__}')\n",
    "from tensorflow import keras\n",
    "print(f'Keras version: {keras.__version__}')"
   ]
  },
  {
   "cell_type": "markdown",
   "metadata": {},
   "source": [
    "We will be using the _Fashion MNIST data set_, which has fashion image items instead of numbers."
   ]
  },
  {
   "cell_type": "code",
   "execution_count": 2,
   "metadata": {},
   "outputs": [],
   "source": [
    "fashion_mnist = keras.datasets.fashion_mnist\n",
    "(X_train_full, y_train_full), (X_test, y_test) = fashion_mnist.load_data()"
   ]
  },
  {
   "cell_type": "code",
   "execution_count": 3,
   "metadata": {},
   "outputs": [
    {
     "name": "stdout",
     "output_type": "stream",
     "text": [
      "X_train_full.shape: (60000, 28, 28)\n",
      "X_train_full.dtype: uint8\n"
     ]
    }
   ],
   "source": [
    "print(f'X_train_full.shape: {X_train_full.shape}')\n",
    "print(f'X_train_full.dtype: {X_train_full.dtype}')"
   ]
  },
  {
   "cell_type": "code",
   "execution_count": 4,
   "metadata": {},
   "outputs": [],
   "source": [
    "X_valid, X_train = X_train_full[:5000] / 255.0, X_train_full[5000:] / 255.0\n",
    "y_valid, y_train = y_train_full[:5000], y_train_full[5000:]"
   ]
  },
  {
   "cell_type": "code",
   "execution_count": 6,
   "metadata": {},
   "outputs": [],
   "source": [
    "class_names = [\"T-shirt/top\", \"Trouser\", \"Pullover\", \"Dress\", \"Coat\", \"Sandal\", \"Shirt\", \"Sneaker\", \"Bag\", \"Ankle boot\"]"
   ]
  },
  {
   "cell_type": "markdown",
   "metadata": {},
   "source": [
    "## Build model with sequential API"
   ]
  },
  {
   "cell_type": "code",
   "execution_count": 9,
   "metadata": {},
   "outputs": [],
   "source": [
    "model = keras.models.Sequential([keras.layers.Flatten(input_shape=[28, 28]), keras.layers.Dense(300, activation=\"relu\"), \\\n",
    "                                 keras.layers.Dense(100, activation=\"relu\"), keras.layers.Dense(10, activation=\"softmax\")])"
   ]
  },
  {
   "cell_type": "code",
   "execution_count": 12,
   "metadata": {},
   "outputs": [
    {
     "name": "stdout",
     "output_type": "stream",
     "text": [
      "Model: \"sequential_1\"\n",
      "_________________________________________________________________\n",
      "Layer (type)                 Output Shape              Param #   \n",
      "=================================================================\n",
      "flatten_1 (Flatten)          (None, 784)               0         \n",
      "_________________________________________________________________\n",
      "dense_2 (Dense)              (None, 300)               235500    \n",
      "_________________________________________________________________\n",
      "dense_3 (Dense)              (None, 100)               30100     \n",
      "_________________________________________________________________\n",
      "dense_4 (Dense)              (None, 10)                1010      \n",
      "=================================================================\n",
      "Total params: 266,610\n",
      "Trainable params: 266,610\n",
      "Non-trainable params: 0\n",
      "_________________________________________________________________\n"
     ]
    }
   ],
   "source": [
    "model.summary()"
   ]
  },
  {
   "cell_type": "code",
   "execution_count": 13,
   "metadata": {},
   "outputs": [
    {
     "data": {
      "text/plain": [
       "[<tensorflow.python.keras.layers.core.Flatten at 0x658f022d0>,\n",
       " <tensorflow.python.keras.layers.core.Dense at 0x658f028d0>,\n",
       " <tensorflow.python.keras.layers.core.Dense at 0x658f02c50>,\n",
       " <tensorflow.python.keras.layers.core.Dense at 0x658f02f90>]"
      ]
     },
     "execution_count": 13,
     "metadata": {},
     "output_type": "execute_result"
    }
   ],
   "source": [
    "model.layers"
   ]
  },
  {
   "cell_type": "code",
   "execution_count": 20,
   "metadata": {},
   "outputs": [
    {
     "data": {
      "text/plain": [
       "'dense_2'"
      ]
     },
     "execution_count": 20,
     "metadata": {},
     "output_type": "execute_result"
    }
   ],
   "source": [
    "hidden1 = model.layers[1]\n",
    "hidden1.name"
   ]
  },
  {
   "cell_type": "code",
   "execution_count": 21,
   "metadata": {},
   "outputs": [
    {
     "data": {
      "text/plain": [
       "True"
      ]
     },
     "execution_count": 21,
     "metadata": {},
     "output_type": "execute_result"
    }
   ],
   "source": [
    "model.get_layer('dense_2') is hidden1"
   ]
  },
  {
   "cell_type": "code",
   "execution_count": 22,
   "metadata": {},
   "outputs": [],
   "source": [
    "weights, biases = hidden1.get_weights()"
   ]
  },
  {
   "cell_type": "markdown",
   "metadata": {},
   "source": [
    "### Compiling the model"
   ]
  },
  {
   "cell_type": "code",
   "execution_count": 26,
   "metadata": {},
   "outputs": [],
   "source": [
    "model.compile(loss=\"sparse_categorical_crossentropy\", optimizer=\"sgd\", metrics=[\"accuracy\"])"
   ]
  },
  {
   "cell_type": "code",
   "execution_count": 27,
   "metadata": {},
   "outputs": [
    {
     "name": "stdout",
     "output_type": "stream",
     "text": [
      "Train on 55000 samples, validate on 5000 samples\n",
      "Epoch 1/30\n",
      "55000/55000 [==============================] - 7s 135us/sample - loss: 0.7153 - accuracy: 0.7629 - val_loss: 0.5182 - val_accuracy: 0.8234\n",
      "Epoch 2/30\n",
      "55000/55000 [==============================] - 6s 117us/sample - loss: 0.4833 - accuracy: 0.8316 - val_loss: 0.4407 - val_accuracy: 0.8544\n",
      "Epoch 3/30\n",
      "55000/55000 [==============================] - 6s 116us/sample - loss: 0.4400 - accuracy: 0.8453 - val_loss: 0.4436 - val_accuracy: 0.8458\n",
      "Epoch 4/30\n",
      "55000/55000 [==============================] - 6s 118us/sample - loss: 0.4135 - accuracy: 0.8538 - val_loss: 0.4094 - val_accuracy: 0.8598\n",
      "Epoch 5/30\n",
      "55000/55000 [==============================] - 7s 120us/sample - loss: 0.3948 - accuracy: 0.8609 - val_loss: 0.4151 - val_accuracy: 0.8524\n",
      "Epoch 6/30\n",
      "55000/55000 [==============================] - 7s 122us/sample - loss: 0.3801 - accuracy: 0.8653 - val_loss: 0.3786 - val_accuracy: 0.8680\n",
      "Epoch 7/30\n",
      "55000/55000 [==============================] - 7s 122us/sample - loss: 0.3665 - accuracy: 0.8713 - val_loss: 0.3727 - val_accuracy: 0.8672\n",
      "Epoch 8/30\n",
      "55000/55000 [==============================] - 7s 124us/sample - loss: 0.3547 - accuracy: 0.8737 - val_loss: 0.3700 - val_accuracy: 0.8674\n",
      "Epoch 9/30\n",
      "55000/55000 [==============================] - 7s 126us/sample - loss: 0.3449 - accuracy: 0.8774 - val_loss: 0.3629 - val_accuracy: 0.8718\n",
      "Epoch 10/30\n",
      "55000/55000 [==============================] - 7s 132us/sample - loss: 0.3354 - accuracy: 0.8810 - val_loss: 0.3636 - val_accuracy: 0.8712\n",
      "Epoch 11/30\n",
      "55000/55000 [==============================] - 7s 132us/sample - loss: 0.3273 - accuracy: 0.8837 - val_loss: 0.3494 - val_accuracy: 0.8772\n",
      "Epoch 12/30\n",
      "55000/55000 [==============================] - 7s 132us/sample - loss: 0.3195 - accuracy: 0.8855 - val_loss: 0.3401 - val_accuracy: 0.8820\n",
      "Epoch 13/30\n",
      "55000/55000 [==============================] - 7s 131us/sample - loss: 0.3105 - accuracy: 0.8890 - val_loss: 0.3316 - val_accuracy: 0.8814\n",
      "Epoch 14/30\n",
      "55000/55000 [==============================] - 7s 134us/sample - loss: 0.3053 - accuracy: 0.8898 - val_loss: 0.3463 - val_accuracy: 0.8708\n",
      "Epoch 15/30\n",
      "55000/55000 [==============================] - 7s 132us/sample - loss: 0.2981 - accuracy: 0.8927 - val_loss: 0.3297 - val_accuracy: 0.8816\n",
      "Epoch 16/30\n",
      "55000/55000 [==============================] - 7s 131us/sample - loss: 0.2917 - accuracy: 0.8953 - val_loss: 0.3329 - val_accuracy: 0.8780\n",
      "Epoch 17/30\n",
      "55000/55000 [==============================] - 7s 132us/sample - loss: 0.2866 - accuracy: 0.8970 - val_loss: 0.3155 - val_accuracy: 0.8842\n",
      "Epoch 18/30\n",
      "55000/55000 [==============================] - 7s 132us/sample - loss: 0.2811 - accuracy: 0.8986 - val_loss: 0.3275 - val_accuracy: 0.8806\n",
      "Epoch 19/30\n",
      "55000/55000 [==============================] - 7s 132us/sample - loss: 0.2744 - accuracy: 0.9011 - val_loss: 0.3167 - val_accuracy: 0.8828\n",
      "Epoch 20/30\n",
      "55000/55000 [==============================] - 7s 130us/sample - loss: 0.2707 - accuracy: 0.9025 - val_loss: 0.3152 - val_accuracy: 0.8842\n",
      "Epoch 21/30\n",
      "55000/55000 [==============================] - 7s 132us/sample - loss: 0.2654 - accuracy: 0.9035 - val_loss: 0.3163 - val_accuracy: 0.8844\n",
      "Epoch 22/30\n",
      "55000/55000 [==============================] - 7s 133us/sample - loss: 0.2604 - accuracy: 0.9064 - val_loss: 0.3043 - val_accuracy: 0.8918\n",
      "Epoch 23/30\n",
      "55000/55000 [==============================] - 7s 134us/sample - loss: 0.2561 - accuracy: 0.9070 - val_loss: 0.3028 - val_accuracy: 0.8914\n",
      "Epoch 24/30\n",
      "55000/55000 [==============================] - 8s 138us/sample - loss: 0.2522 - accuracy: 0.9085 - val_loss: 0.3003 - val_accuracy: 0.8892\n",
      "Epoch 25/30\n",
      "55000/55000 [==============================] - 8s 145us/sample - loss: 0.2477 - accuracy: 0.9109 - val_loss: 0.2994 - val_accuracy: 0.8886\n",
      "Epoch 26/30\n",
      "55000/55000 [==============================] - 7s 134us/sample - loss: 0.2442 - accuracy: 0.9112 - val_loss: 0.3038 - val_accuracy: 0.8886\n",
      "Epoch 27/30\n",
      "55000/55000 [==============================] - 8s 140us/sample - loss: 0.2389 - accuracy: 0.9142 - val_loss: 0.3003 - val_accuracy: 0.8928\n",
      "Epoch 28/30\n",
      "55000/55000 [==============================] - 7s 132us/sample - loss: 0.2348 - accuracy: 0.9153 - val_loss: 0.2975 - val_accuracy: 0.8902\n",
      "Epoch 29/30\n",
      "55000/55000 [==============================] - 7s 132us/sample - loss: 0.2313 - accuracy: 0.9169 - val_loss: 0.2877 - val_accuracy: 0.8948\n",
      "Epoch 30/30\n",
      "55000/55000 [==============================] - 8s 140us/sample - loss: 0.2283 - accuracy: 0.9176 - val_loss: 0.2966 - val_accuracy: 0.8924\n"
     ]
    }
   ],
   "source": [
    "history = model.fit(X_train, y_train, epochs=30, validation_data=(X_valid, y_valid))"
   ]
  },
  {
   "cell_type": "code",
   "execution_count": null,
   "metadata": {},
   "outputs": [],
   "source": []
  }
 ],
 "metadata": {
  "kernelspec": {
   "display_name": "Python 3",
   "language": "python",
   "name": "python3"
  },
  "language_info": {
   "codemirror_mode": {
    "name": "ipython",
    "version": 3
   },
   "file_extension": ".py",
   "mimetype": "text/x-python",
   "name": "python",
   "nbconvert_exporter": "python",
   "pygments_lexer": "ipython3",
   "version": "3.7.6"
  }
 },
 "nbformat": 4,
 "nbformat_minor": 4
}
