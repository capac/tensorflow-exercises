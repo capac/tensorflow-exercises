{
 "cells": [
  {
   "cell_type": "markdown",
   "metadata": {},
   "source": [
    "# Building an image classifier using the sequential API\n",
    "\n",
    "Following step-by-step procedure in Chapter 10 of Aurélien Géron's book _Hands-on Machine Learning with Scikit-Learn, Keras and TensorFlow_."
   ]
  },
  {
   "cell_type": "code",
   "execution_count": 1,
   "metadata": {},
   "outputs": [],
   "source": [
    "from pathlib import Path, PurePath\n",
    "import pandas as pd\n",
    "from time import time\n",
    "import matplotlib.pyplot as plt\n",
    "%matplotlib inline"
   ]
  },
  {
   "cell_type": "code",
   "execution_count": 2,
   "metadata": {},
   "outputs": [
    {
     "name": "stdout",
     "output_type": "stream",
     "text": [
      "TensorFlow version: 2.1.0\n",
      "Keras version: 2.2.4-tf\n"
     ]
    }
   ],
   "source": [
    "import tensorflow\n",
    "print(f'TensorFlow version: {tensorflow.__version__}')\n",
    "from tensorflow import keras\n",
    "print(f'Keras version: {keras.__version__}')"
   ]
  },
  {
   "cell_type": "markdown",
   "metadata": {},
   "source": [
    "We will be using the _Fashion MNIST data set_, which has fashion image items instead of numbers."
   ]
  },
  {
   "cell_type": "code",
   "execution_count": 3,
   "metadata": {},
   "outputs": [],
   "source": [
    "fashion_mnist = keras.datasets.fashion_mnist\n",
    "(X_train_full, y_train_full), (X_test, y_test) = fashion_mnist.load_data()"
   ]
  },
  {
   "cell_type": "code",
   "execution_count": 4,
   "metadata": {},
   "outputs": [
    {
     "name": "stdout",
     "output_type": "stream",
     "text": [
      "X_train_full.shape: (60000, 28, 28)\n",
      "X_train_full.dtype: uint8\n"
     ]
    }
   ],
   "source": [
    "print(f'X_train_full.shape: {X_train_full.shape}')\n",
    "print(f'X_train_full.dtype: {X_train_full.dtype}')"
   ]
  },
  {
   "cell_type": "code",
   "execution_count": 5,
   "metadata": {},
   "outputs": [],
   "source": [
    "X_valid, X_train = X_train_full[:5000] / 255.0, X_train_full[5000:] / 255.0\n",
    "y_valid, y_train = y_train_full[:5000], y_train_full[5000:]"
   ]
  },
  {
   "cell_type": "code",
   "execution_count": 6,
   "metadata": {},
   "outputs": [],
   "source": [
    "class_names = [\"T-shirt/top\", \"Trouser\", \"Pullover\", \"Dress\", \"Coat\", \"Sandal\", \"Shirt\", \"Sneaker\", \"Bag\", \"Ankle boot\"]"
   ]
  },
  {
   "cell_type": "markdown",
   "metadata": {},
   "source": [
    "## Build model with sequential API"
   ]
  },
  {
   "cell_type": "code",
   "execution_count": 7,
   "metadata": {},
   "outputs": [],
   "source": [
    "model = keras.models.Sequential([keras.layers.Flatten(input_shape=[28, 28]), \\\n",
    "                                 keras.layers.Dense(300, activation=\"relu\"), \\\n",
    "                                 keras.layers.Dense(100, activation=\"relu\"), \\\n",
    "                                 keras.layers.Dense(10, activation=\"softmax\")])"
   ]
  },
  {
   "cell_type": "code",
   "execution_count": 8,
   "metadata": {},
   "outputs": [
    {
     "name": "stdout",
     "output_type": "stream",
     "text": [
      "Model: \"sequential\"\n",
      "_________________________________________________________________\n",
      "Layer (type)                 Output Shape              Param #   \n",
      "=================================================================\n",
      "flatten (Flatten)            (None, 784)               0         \n",
      "_________________________________________________________________\n",
      "dense (Dense)                (None, 300)               235500    \n",
      "_________________________________________________________________\n",
      "dense_1 (Dense)              (None, 100)               30100     \n",
      "_________________________________________________________________\n",
      "dense_2 (Dense)              (None, 10)                1010      \n",
      "=================================================================\n",
      "Total params: 266,610\n",
      "Trainable params: 266,610\n",
      "Non-trainable params: 0\n",
      "_________________________________________________________________\n"
     ]
    }
   ],
   "source": [
    "model.summary()"
   ]
  },
  {
   "cell_type": "code",
   "execution_count": 9,
   "metadata": {},
   "outputs": [
    {
     "data": {
      "text/plain": [
       "[<tensorflow.python.keras.layers.core.Flatten at 0x63ac67590>,\n",
       " <tensorflow.python.keras.layers.core.Dense at 0x63ac63450>,\n",
       " <tensorflow.python.keras.layers.core.Dense at 0x10c55b890>,\n",
       " <tensorflow.python.keras.layers.core.Dense at 0x11dc586d0>]"
      ]
     },
     "execution_count": 9,
     "metadata": {},
     "output_type": "execute_result"
    }
   ],
   "source": [
    "model.layers"
   ]
  },
  {
   "cell_type": "code",
   "execution_count": 10,
   "metadata": {},
   "outputs": [
    {
     "data": {
      "text/plain": [
       "'dense'"
      ]
     },
     "execution_count": 10,
     "metadata": {},
     "output_type": "execute_result"
    }
   ],
   "source": [
    "hidden1 = model.layers[1]\n",
    "hidden1.name"
   ]
  },
  {
   "cell_type": "code",
   "execution_count": 11,
   "metadata": {},
   "outputs": [
    {
     "data": {
      "text/plain": [
       "False"
      ]
     },
     "execution_count": 11,
     "metadata": {},
     "output_type": "execute_result"
    }
   ],
   "source": [
    "model.get_layer('dense_2') is hidden1"
   ]
  },
  {
   "cell_type": "code",
   "execution_count": 12,
   "metadata": {},
   "outputs": [],
   "source": [
    "weights, biases = hidden1.get_weights()"
   ]
  },
  {
   "cell_type": "markdown",
   "metadata": {},
   "source": [
    "### Compiling the model"
   ]
  },
  {
   "cell_type": "code",
   "execution_count": 13,
   "metadata": {},
   "outputs": [],
   "source": [
    "model.compile(loss=\"sparse_categorical_crossentropy\", optimizer=\"sgd\", metrics=[\"accuracy\"])"
   ]
  },
  {
   "cell_type": "code",
   "execution_count": 14,
   "metadata": {},
   "outputs": [
    {
     "name": "stdout",
     "output_type": "stream",
     "text": [
      "Train on 55000 samples, validate on 5000 samples\n",
      "Epoch 1/30\n",
      "55000/55000 [==============================] - 3s 59us/sample - loss: 0.7347 - accuracy: 0.7616 - val_loss: 0.5214 - val_accuracy: 0.8162\n",
      "Epoch 2/30\n",
      "55000/55000 [==============================] - 3s 53us/sample - loss: 0.4906 - accuracy: 0.8292 - val_loss: 0.4790 - val_accuracy: 0.8244\n",
      "Epoch 3/30\n",
      "55000/55000 [==============================] - 3s 54us/sample - loss: 0.4431 - accuracy: 0.8442 - val_loss: 0.4279 - val_accuracy: 0.8524\n",
      "Epoch 4/30\n",
      "55000/55000 [==============================] - 3s 52us/sample - loss: 0.4148 - accuracy: 0.8538 - val_loss: 0.4191 - val_accuracy: 0.8540\n",
      "Epoch 5/30\n",
      "55000/55000 [==============================] - 3s 53us/sample - loss: 0.3938 - accuracy: 0.8611 - val_loss: 0.3877 - val_accuracy: 0.8600\n",
      "Epoch 6/30\n",
      "55000/55000 [==============================] - 3s 53us/sample - loss: 0.3773 - accuracy: 0.8667 - val_loss: 0.3758 - val_accuracy: 0.8694\n",
      "Epoch 7/30\n",
      "55000/55000 [==============================] - 3s 53us/sample - loss: 0.3645 - accuracy: 0.8711 - val_loss: 0.3721 - val_accuracy: 0.8692\n",
      "Epoch 8/30\n",
      "55000/55000 [==============================] - 3s 53us/sample - loss: 0.3512 - accuracy: 0.8754 - val_loss: 0.3494 - val_accuracy: 0.8752\n",
      "Epoch 9/30\n",
      "55000/55000 [==============================] - 3s 53us/sample - loss: 0.3408 - accuracy: 0.8784 - val_loss: 0.3523 - val_accuracy: 0.8746\n",
      "Epoch 10/30\n",
      "55000/55000 [==============================] - 3s 54us/sample - loss: 0.3306 - accuracy: 0.8822 - val_loss: 0.3429 - val_accuracy: 0.8828\n",
      "Epoch 11/30\n",
      "55000/55000 [==============================] - 3s 53us/sample - loss: 0.3225 - accuracy: 0.8838 - val_loss: 0.3330 - val_accuracy: 0.8830\n",
      "Epoch 12/30\n",
      "55000/55000 [==============================] - 3s 53us/sample - loss: 0.3144 - accuracy: 0.8872 - val_loss: 0.3377 - val_accuracy: 0.8784\n",
      "Epoch 13/30\n",
      "55000/55000 [==============================] - 3s 54us/sample - loss: 0.3062 - accuracy: 0.8899 - val_loss: 0.3216 - val_accuracy: 0.8850\n",
      "Epoch 14/30\n",
      "55000/55000 [==============================] - 3s 54us/sample - loss: 0.2997 - accuracy: 0.8921 - val_loss: 0.3347 - val_accuracy: 0.8802\n",
      "Epoch 15/30\n",
      "55000/55000 [==============================] - 3s 53us/sample - loss: 0.2937 - accuracy: 0.8940 - val_loss: 0.3214 - val_accuracy: 0.8864\n",
      "Epoch 16/30\n",
      "55000/55000 [==============================] - 3s 53us/sample - loss: 0.2878 - accuracy: 0.8958 - val_loss: 0.3202 - val_accuracy: 0.8828\n",
      "Epoch 17/30\n",
      "55000/55000 [==============================] - 5s 87us/sample - loss: 0.2822 - accuracy: 0.8978 - val_loss: 0.3282 - val_accuracy: 0.8794\n",
      "Epoch 18/30\n",
      "55000/55000 [==============================] - 3s 56us/sample - loss: 0.2765 - accuracy: 0.8995 - val_loss: 0.3079 - val_accuracy: 0.8898\n",
      "Epoch 19/30\n",
      "55000/55000 [==============================] - 3s 56us/sample - loss: 0.2720 - accuracy: 0.9015 - val_loss: 0.3255 - val_accuracy: 0.8784\n",
      "Epoch 20/30\n",
      "55000/55000 [==============================] - 3s 56us/sample - loss: 0.2662 - accuracy: 0.9041 - val_loss: 0.3214 - val_accuracy: 0.8852\n",
      "Epoch 21/30\n",
      "55000/55000 [==============================] - 3s 56us/sample - loss: 0.2617 - accuracy: 0.9055 - val_loss: 0.3076 - val_accuracy: 0.8894\n",
      "Epoch 22/30\n",
      "55000/55000 [==============================] - 3s 56us/sample - loss: 0.2568 - accuracy: 0.9069 - val_loss: 0.3102 - val_accuracy: 0.8858\n",
      "Epoch 23/30\n",
      "55000/55000 [==============================] - 3s 57us/sample - loss: 0.2529 - accuracy: 0.9091 - val_loss: 0.3024 - val_accuracy: 0.8892\n",
      "Epoch 24/30\n",
      "55000/55000 [==============================] - 3s 57us/sample - loss: 0.2472 - accuracy: 0.9113 - val_loss: 0.3009 - val_accuracy: 0.8900\n",
      "Epoch 25/30\n",
      "55000/55000 [==============================] - 3s 60us/sample - loss: 0.2440 - accuracy: 0.9114 - val_loss: 0.3013 - val_accuracy: 0.8872\n",
      "Epoch 26/30\n",
      "55000/55000 [==============================] - 3s 60us/sample - loss: 0.2394 - accuracy: 0.9137 - val_loss: 0.3089 - val_accuracy: 0.8866\n",
      "Epoch 27/30\n",
      "55000/55000 [==============================] - 3s 60us/sample - loss: 0.2353 - accuracy: 0.9150 - val_loss: 0.3014 - val_accuracy: 0.8936\n",
      "Epoch 28/30\n",
      "55000/55000 [==============================] - 3s 60us/sample - loss: 0.2309 - accuracy: 0.9169 - val_loss: 0.3024 - val_accuracy: 0.8894\n",
      "Epoch 29/30\n",
      "55000/55000 [==============================] - 3s 61us/sample - loss: 0.2270 - accuracy: 0.9185 - val_loss: 0.3121 - val_accuracy: 0.8908\n",
      "Epoch 30/30\n",
      "55000/55000 [==============================] - 3s 61us/sample - loss: 0.2239 - accuracy: 0.9190 - val_loss: 0.3123 - val_accuracy: 0.8876\n",
      "Time elapsed: 93.6493 sec\n"
     ]
    }
   ],
   "source": [
    "t0 = time()\n",
    "history = model.fit(X_train, y_train, epochs=30, validation_data=(X_valid, y_valid))\n",
    "print(f'Time elapsed: {time() - t0:.4f} sec')"
   ]
  },
  {
   "cell_type": "code",
   "execution_count": 15,
   "metadata": {},
   "outputs": [
    {
     "data": {
      "text/plain": [
       "{'batch_size': 32,\n",
       " 'epochs': 30,\n",
       " 'steps': 1719,\n",
       " 'samples': 55000,\n",
       " 'verbose': 0,\n",
       " 'do_validation': True,\n",
       " 'metrics': ['loss', 'accuracy', 'val_loss', 'val_accuracy']}"
      ]
     },
     "execution_count": 15,
     "metadata": {},
     "output_type": "execute_result"
    }
   ],
   "source": [
    "history.params"
   ]
  },
  {
   "cell_type": "code",
   "execution_count": 16,
   "metadata": {},
   "outputs": [
    {
     "data": {
      "text/html": [
       "<div>\n",
       "<style scoped>\n",
       "    .dataframe tbody tr th:only-of-type {\n",
       "        vertical-align: middle;\n",
       "    }\n",
       "\n",
       "    .dataframe tbody tr th {\n",
       "        vertical-align: top;\n",
       "    }\n",
       "\n",
       "    .dataframe thead th {\n",
       "        text-align: right;\n",
       "    }\n",
       "</style>\n",
       "<table border=\"1\" class=\"dataframe\">\n",
       "  <thead>\n",
       "    <tr style=\"text-align: right;\">\n",
       "      <th></th>\n",
       "      <th>loss</th>\n",
       "      <th>accuracy</th>\n",
       "      <th>val_loss</th>\n",
       "      <th>val_accuracy</th>\n",
       "    </tr>\n",
       "  </thead>\n",
       "  <tbody>\n",
       "    <tr>\n",
       "      <th>20</th>\n",
       "      <td>0.261744</td>\n",
       "      <td>0.905509</td>\n",
       "      <td>0.307648</td>\n",
       "      <td>0.8894</td>\n",
       "    </tr>\n",
       "    <tr>\n",
       "      <th>21</th>\n",
       "      <td>0.256781</td>\n",
       "      <td>0.906945</td>\n",
       "      <td>0.310175</td>\n",
       "      <td>0.8858</td>\n",
       "    </tr>\n",
       "    <tr>\n",
       "      <th>22</th>\n",
       "      <td>0.252911</td>\n",
       "      <td>0.909091</td>\n",
       "      <td>0.302359</td>\n",
       "      <td>0.8892</td>\n",
       "    </tr>\n",
       "    <tr>\n",
       "      <th>23</th>\n",
       "      <td>0.247243</td>\n",
       "      <td>0.911327</td>\n",
       "      <td>0.300911</td>\n",
       "      <td>0.8900</td>\n",
       "    </tr>\n",
       "    <tr>\n",
       "      <th>24</th>\n",
       "      <td>0.243977</td>\n",
       "      <td>0.911364</td>\n",
       "      <td>0.301296</td>\n",
       "      <td>0.8872</td>\n",
       "    </tr>\n",
       "    <tr>\n",
       "      <th>25</th>\n",
       "      <td>0.239351</td>\n",
       "      <td>0.913673</td>\n",
       "      <td>0.308917</td>\n",
       "      <td>0.8866</td>\n",
       "    </tr>\n",
       "    <tr>\n",
       "      <th>26</th>\n",
       "      <td>0.235251</td>\n",
       "      <td>0.914964</td>\n",
       "      <td>0.301412</td>\n",
       "      <td>0.8936</td>\n",
       "    </tr>\n",
       "    <tr>\n",
       "      <th>27</th>\n",
       "      <td>0.230874</td>\n",
       "      <td>0.916927</td>\n",
       "      <td>0.302355</td>\n",
       "      <td>0.8894</td>\n",
       "    </tr>\n",
       "    <tr>\n",
       "      <th>28</th>\n",
       "      <td>0.227005</td>\n",
       "      <td>0.918491</td>\n",
       "      <td>0.312060</td>\n",
       "      <td>0.8908</td>\n",
       "    </tr>\n",
       "    <tr>\n",
       "      <th>29</th>\n",
       "      <td>0.223915</td>\n",
       "      <td>0.918964</td>\n",
       "      <td>0.312276</td>\n",
       "      <td>0.8876</td>\n",
       "    </tr>\n",
       "  </tbody>\n",
       "</table>\n",
       "</div>"
      ],
      "text/plain": [
       "        loss  accuracy  val_loss  val_accuracy\n",
       "20  0.261744  0.905509  0.307648        0.8894\n",
       "21  0.256781  0.906945  0.310175        0.8858\n",
       "22  0.252911  0.909091  0.302359        0.8892\n",
       "23  0.247243  0.911327  0.300911        0.8900\n",
       "24  0.243977  0.911364  0.301296        0.8872\n",
       "25  0.239351  0.913673  0.308917        0.8866\n",
       "26  0.235251  0.914964  0.301412        0.8936\n",
       "27  0.230874  0.916927  0.302355        0.8894\n",
       "28  0.227005  0.918491  0.312060        0.8908\n",
       "29  0.223915  0.918964  0.312276        0.8876"
      ]
     },
     "execution_count": 16,
     "metadata": {},
     "output_type": "execute_result"
    }
   ],
   "source": [
    "df = pd.DataFrame(history.history)\n",
    "df.tail(10)"
   ]
  },
  {
   "cell_type": "code",
   "execution_count": 17,
   "metadata": {},
   "outputs": [
    {
     "data": {
      "image/png": "[encoded data removed]",
      "text/plain": [
       "<Figure size 720x432 with 1 Axes>"
      ]
     },
     "metadata": {
      "needs_background": "light"
     },
     "output_type": "display_data"
    }
   ],
   "source": [
    "df.plot(figsize=(10, 6))\n",
    "plt.grid(True)\n",
    "plt.gca().set_ylim(0, 1);"
   ]
  },
  {
   "cell_type": "code",
   "execution_count": null,
   "metadata": {},
   "outputs": [],
   "source": []
  }
 ],
 "metadata": {
  "kernelspec": {
   "display_name": "Python 3",
   "language": "python",
   "name": "python3"
  },
  "language_info": {
   "codemirror_mode": {
    "name": "ipython",
    "version": 3
   },
   "file_extension": ".py",
   "mimetype": "text/x-python",
   "name": "python",
   "nbconvert_exporter": "python",
   "pygments_lexer": "ipython3",
   "version": "3.7.7"
  }
 },
 "nbformat": 4,
 "nbformat_minor": 4
}
