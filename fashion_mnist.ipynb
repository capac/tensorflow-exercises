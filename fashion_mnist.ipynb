{
 "cells": [
  {
   "cell_type": "markdown",
   "metadata": {},
   "source": [
    "# Building an image classifier using the sequential API\n",
    "\n",
    "Following step-by-step procedure in Chapter 10 of Aurélien Géron's book _Hands-on Machine Learning with Scikit-Learn, Keras and TensorFlow_."
   ]
  },
  {
   "cell_type": "code",
   "execution_count": 1,
   "metadata": {},
   "outputs": [],
   "source": [
    "from pathlib import Path, PurePath\n",
    "import pandas as pd\n",
    "from time import time\n",
    "import matplotlib.pyplot as plt\n",
    "import h5py\n",
    "%matplotlib widget"
   ]
  },
  {
   "cell_type": "code",
   "execution_count": 2,
   "metadata": {},
   "outputs": [
    {
     "name": "stdout",
     "output_type": "stream",
     "text": [
      "TensorFlow version: 2.0.0\n",
      "Keras version: 2.2.4-tf\n"
     ]
    }
   ],
   "source": [
    "import tensorflow\n",
    "print(f'TensorFlow version: {tensorflow.__version__}')\n",
    "from tensorflow import keras\n",
    "print(f'Keras version: {keras.__version__}')"
   ]
  },
  {
   "cell_type": "code",
   "execution_count": 3,
   "metadata": {},
   "outputs": [],
   "source": [
    "import os\n",
    "os.environ['KMP_DUPLICATE_LIB_OK']='True'"
   ]
  },
  {
   "cell_type": "markdown",
   "metadata": {},
   "source": [
    "We will be using the _Fashion MNIST data set_, which has fashion image items instead of numbers."
   ]
  },
  {
   "cell_type": "code",
   "execution_count": 4,
   "metadata": {},
   "outputs": [],
   "source": [
    "fashion_mnist = keras.datasets.fashion_mnist\n",
    "(X_train_full, y_train_full), (X_test, y_test) = fashion_mnist.load_data()"
   ]
  },
  {
   "cell_type": "code",
   "execution_count": 5,
   "metadata": {},
   "outputs": [
    {
     "name": "stdout",
     "output_type": "stream",
     "text": [
      "X_train_full.shape: (60000, 28, 28)\n",
      "X_train_full.dtype: uint8\n"
     ]
    }
   ],
   "source": [
    "print(f'X_train_full.shape: {X_train_full.shape}')\n",
    "print(f'X_train_full.dtype: {X_train_full.dtype}')"
   ]
  },
  {
   "cell_type": "code",
   "execution_count": 6,
   "metadata": {},
   "outputs": [],
   "source": [
    "X_valid, X_train = X_train_full[:5000] / 255.0, X_train_full[5000:] / 255.0\n",
    "y_valid, y_train = y_train_full[:5000], y_train_full[5000:]"
   ]
  },
  {
   "cell_type": "code",
   "execution_count": 7,
   "metadata": {},
   "outputs": [],
   "source": [
    "class_names = [\"T-shirt/top\", \"Trouser\", \"Pullover\", \"Dress\", \"Coat\", \"Sandal\", \"Shirt\", \"Sneaker\", \"Bag\", \"Ankle boot\"]"
   ]
  },
  {
   "cell_type": "markdown",
   "metadata": {},
   "source": [
    "## Build model with sequential API"
   ]
  },
  {
   "cell_type": "code",
   "execution_count": 8,
   "metadata": {},
   "outputs": [],
   "source": [
    "model = keras.models.Sequential([keras.layers.Flatten(input_shape=[28, 28]), \\\n",
    "                                 keras.layers.Dense(300, activation=\"relu\"), \\\n",
    "                                 keras.layers.Dense(100, activation=\"relu\"), \\\n",
    "                                 keras.layers.Dense(10, activation=\"softmax\")])"
   ]
  },
  {
   "cell_type": "code",
   "execution_count": 9,
   "metadata": {},
   "outputs": [
    {
     "name": "stdout",
     "output_type": "stream",
     "text": [
      "Model: \"sequential\"\n",
      "_________________________________________________________________\n",
      "Layer (type)                 Output Shape              Param #   \n",
      "=================================================================\n",
      "flatten (Flatten)            (None, 784)               0         \n",
      "_________________________________________________________________\n",
      "dense (Dense)                (None, 300)               235500    \n",
      "_________________________________________________________________\n",
      "dense_1 (Dense)              (None, 100)               30100     \n",
      "_________________________________________________________________\n",
      "dense_2 (Dense)              (None, 10)                1010      \n",
      "=================================================================\n",
      "Total params: 266,610\n",
      "Trainable params: 266,610\n",
      "Non-trainable params: 0\n",
      "_________________________________________________________________\n"
     ]
    }
   ],
   "source": [
    "model.summary()"
   ]
  },
  {
   "cell_type": "code",
   "execution_count": 10,
   "metadata": {},
   "outputs": [
    {
     "data": {
      "text/plain": [
       "[<tensorflow.python.keras.layers.core.Flatten at 0x6426e4250>,\n",
       " <tensorflow.python.keras.layers.core.Dense at 0x10972ee10>,\n",
       " <tensorflow.python.keras.layers.core.Dense at 0x6426cfe50>,\n",
       " <tensorflow.python.keras.layers.core.Dense at 0x11ac99ed0>]"
      ]
     },
     "execution_count": 10,
     "metadata": {},
     "output_type": "execute_result"
    }
   ],
   "source": [
    "model.layers"
   ]
  },
  {
   "cell_type": "code",
   "execution_count": 11,
   "metadata": {},
   "outputs": [
    {
     "data": {
      "text/plain": [
       "'dense'"
      ]
     },
     "execution_count": 11,
     "metadata": {},
     "output_type": "execute_result"
    }
   ],
   "source": [
    "hidden1 = model.layers[1]\n",
    "hidden1.name"
   ]
  },
  {
   "cell_type": "code",
   "execution_count": 12,
   "metadata": {},
   "outputs": [
    {
     "data": {
      "text/plain": [
       "False"
      ]
     },
     "execution_count": 12,
     "metadata": {},
     "output_type": "execute_result"
    }
   ],
   "source": [
    "model.get_layer('dense_2') is hidden1"
   ]
  },
  {
   "cell_type": "code",
   "execution_count": 13,
   "metadata": {},
   "outputs": [],
   "source": [
    "weights, biases = hidden1.get_weights()"
   ]
  },
  {
   "cell_type": "markdown",
   "metadata": {},
   "source": [
    "### Compiling the model"
   ]
  },
  {
   "cell_type": "code",
   "execution_count": 14,
   "metadata": {},
   "outputs": [],
   "source": [
    "model.compile(loss=\"sparse_categorical_crossentropy\", optimizer=\"sgd\", metrics=[\"accuracy\"])"
   ]
  },
  {
   "cell_type": "code",
   "execution_count": 15,
   "metadata": {},
   "outputs": [
    {
     "name": "stdout",
     "output_type": "stream",
     "text": [
      "Train on 55000 samples, validate on 5000 samples\n",
      "Epoch 1/30\n",
      "55000/55000 [==============================] - 8s 150us/sample - loss: 0.7047 - accuracy: 0.7670 - val_loss: 0.5093 - val_accuracy: 0.8230\n",
      "Epoch 2/30\n",
      "55000/55000 [==============================] - 7s 120us/sample - loss: 0.4863 - accuracy: 0.8309 - val_loss: 0.4569 - val_accuracy: 0.8448\n",
      "Epoch 3/30\n",
      "55000/55000 [==============================] - 7s 127us/sample - loss: 0.4412 - accuracy: 0.8455 - val_loss: 0.4127 - val_accuracy: 0.8590\n",
      "Epoch 4/30\n",
      "55000/55000 [==============================] - 7s 130us/sample - loss: 0.4133 - accuracy: 0.8564 - val_loss: 0.4038 - val_accuracy: 0.8564\n",
      "Epoch 5/30\n",
      "55000/55000 [==============================] - 7s 131us/sample - loss: 0.3937 - accuracy: 0.8614 - val_loss: 0.3747 - val_accuracy: 0.8704\n",
      "Epoch 6/30\n",
      "55000/55000 [==============================] - 7s 136us/sample - loss: 0.3775 - accuracy: 0.8666 - val_loss: 0.4519 - val_accuracy: 0.8286\n",
      "Epoch 7/30\n",
      "55000/55000 [==============================] - 7s 134us/sample - loss: 0.3648 - accuracy: 0.8714 - val_loss: 0.3643 - val_accuracy: 0.8696\n",
      "Epoch 8/30\n",
      "55000/55000 [==============================] - 7s 134us/sample - loss: 0.3536 - accuracy: 0.8753 - val_loss: 0.3628 - val_accuracy: 0.8740\n",
      "Epoch 9/30\n",
      "55000/55000 [==============================] - 7s 133us/sample - loss: 0.3420 - accuracy: 0.8787 - val_loss: 0.3575 - val_accuracy: 0.8766\n",
      "Epoch 10/30\n",
      "55000/55000 [==============================] - 7s 134us/sample - loss: 0.3334 - accuracy: 0.8818 - val_loss: 0.3453 - val_accuracy: 0.8804\n",
      "Epoch 11/30\n",
      "55000/55000 [==============================] - 7s 136us/sample - loss: 0.3249 - accuracy: 0.8845 - val_loss: 0.3419 - val_accuracy: 0.8776\n",
      "Epoch 12/30\n",
      "55000/55000 [==============================] - 8s 137us/sample - loss: 0.3180 - accuracy: 0.8865 - val_loss: 0.3377 - val_accuracy: 0.8816\n",
      "Epoch 13/30\n",
      "55000/55000 [==============================] - 8s 140us/sample - loss: 0.3101 - accuracy: 0.8886 - val_loss: 0.3230 - val_accuracy: 0.8836\n",
      "Epoch 14/30\n",
      "55000/55000 [==============================] - 7s 136us/sample - loss: 0.3035 - accuracy: 0.8919 - val_loss: 0.3305 - val_accuracy: 0.8836\n",
      "Epoch 15/30\n",
      "55000/55000 [==============================] - 8s 137us/sample - loss: 0.2965 - accuracy: 0.8931 - val_loss: 0.3298 - val_accuracy: 0.8828\n",
      "Epoch 16/30\n",
      "55000/55000 [==============================] - 8s 146us/sample - loss: 0.2901 - accuracy: 0.8958 - val_loss: 0.3227 - val_accuracy: 0.8884\n",
      "Epoch 17/30\n",
      "55000/55000 [==============================] - 8s 138us/sample - loss: 0.2843 - accuracy: 0.8981 - val_loss: 0.3140 - val_accuracy: 0.8894\n",
      "Epoch 18/30\n",
      "55000/55000 [==============================] - 8s 143us/sample - loss: 0.2778 - accuracy: 0.8999 - val_loss: 0.3091 - val_accuracy: 0.8886\n",
      "Epoch 19/30\n",
      "55000/55000 [==============================] - 7s 133us/sample - loss: 0.2744 - accuracy: 0.9007 - val_loss: 0.3153 - val_accuracy: 0.8890\n",
      "Epoch 20/30\n",
      "55000/55000 [==============================] - 8s 137us/sample - loss: 0.2686 - accuracy: 0.9024 - val_loss: 0.3142 - val_accuracy: 0.8856\n",
      "Epoch 21/30\n",
      "55000/55000 [==============================] - 7s 135us/sample - loss: 0.2635 - accuracy: 0.9045 - val_loss: 0.3152 - val_accuracy: 0.8878\n",
      "Epoch 22/30\n",
      "55000/55000 [==============================] - 8s 137us/sample - loss: 0.2588 - accuracy: 0.9068 - val_loss: 0.3106 - val_accuracy: 0.8878\n",
      "Epoch 23/30\n",
      "55000/55000 [==============================] - 8s 136us/sample - loss: 0.2549 - accuracy: 0.9079 - val_loss: 0.3040 - val_accuracy: 0.8888\n",
      "Epoch 24/30\n",
      "55000/55000 [==============================] - 7s 135us/sample - loss: 0.2497 - accuracy: 0.9090 - val_loss: 0.3031 - val_accuracy: 0.8920\n",
      "Epoch 25/30\n",
      "55000/55000 [==============================] - 7s 136us/sample - loss: 0.2453 - accuracy: 0.9112 - val_loss: 0.2983 - val_accuracy: 0.8924\n",
      "Epoch 26/30\n",
      "55000/55000 [==============================] - 7s 135us/sample - loss: 0.2422 - accuracy: 0.9118 - val_loss: 0.3020 - val_accuracy: 0.8942\n",
      "Epoch 27/30\n",
      "55000/55000 [==============================] - 7s 135us/sample - loss: 0.2379 - accuracy: 0.9132 - val_loss: 0.2962 - val_accuracy: 0.8918\n",
      "Epoch 28/30\n",
      "55000/55000 [==============================] - 8s 141us/sample - loss: 0.2335 - accuracy: 0.9157 - val_loss: 0.3062 - val_accuracy: 0.8860\n",
      "Epoch 29/30\n",
      "55000/55000 [==============================] - 8s 139us/sample - loss: 0.2302 - accuracy: 0.9182 - val_loss: 0.3181 - val_accuracy: 0.8882\n",
      "Epoch 30/30\n",
      "55000/55000 [==============================] - 8s 138us/sample - loss: 0.2272 - accuracy: 0.9175 - val_loss: 0.2964 - val_accuracy: 0.8926\n",
      "Time elapsed: 224.3394 sec\n"
     ]
    }
   ],
   "source": [
    "t0 = time()\n",
    "history = model.fit(X_train, y_train, epochs=30, validation_data=(X_valid, y_valid))\n",
    "print(f'Time elapsed: {time() - t0:.4f} sec')"
   ]
  },
  {
   "cell_type": "code",
   "execution_count": 16,
   "metadata": {},
   "outputs": [
    {
     "data": {
      "text/plain": [
       "{'batch_size': 32,\n",
       " 'epochs': 30,\n",
       " 'steps': 1719,\n",
       " 'samples': 55000,\n",
       " 'verbose': 0,\n",
       " 'do_validation': True,\n",
       " 'metrics': ['loss', 'accuracy', 'val_loss', 'val_accuracy']}"
      ]
     },
     "execution_count": 16,
     "metadata": {},
     "output_type": "execute_result"
    }
   ],
   "source": [
    "history.params"
   ]
  },
  {
   "cell_type": "code",
   "execution_count": 17,
   "metadata": {},
   "outputs": [
    {
     "data": {
      "text/html": [
       "<div>\n",
       "<style scoped>\n",
       "    .dataframe tbody tr th:only-of-type {\n",
       "        vertical-align: middle;\n",
       "    }\n",
       "\n",
       "    .dataframe tbody tr th {\n",
       "        vertical-align: top;\n",
       "    }\n",
       "\n",
       "    .dataframe thead th {\n",
       "        text-align: right;\n",
       "    }\n",
       "</style>\n",
       "<table border=\"1\" class=\"dataframe\">\n",
       "  <thead>\n",
       "    <tr style=\"text-align: right;\">\n",
       "      <th></th>\n",
       "      <th>loss</th>\n",
       "      <th>accuracy</th>\n",
       "      <th>val_loss</th>\n",
       "      <th>val_accuracy</th>\n",
       "    </tr>\n",
       "  </thead>\n",
       "  <tbody>\n",
       "    <tr>\n",
       "      <th>20</th>\n",
       "      <td>0.263550</td>\n",
       "      <td>0.904473</td>\n",
       "      <td>0.315249</td>\n",
       "      <td>0.8878</td>\n",
       "    </tr>\n",
       "    <tr>\n",
       "      <th>21</th>\n",
       "      <td>0.258811</td>\n",
       "      <td>0.906782</td>\n",
       "      <td>0.310559</td>\n",
       "      <td>0.8878</td>\n",
       "    </tr>\n",
       "    <tr>\n",
       "      <th>22</th>\n",
       "      <td>0.254937</td>\n",
       "      <td>0.907855</td>\n",
       "      <td>0.303981</td>\n",
       "      <td>0.8888</td>\n",
       "    </tr>\n",
       "    <tr>\n",
       "      <th>23</th>\n",
       "      <td>0.249726</td>\n",
       "      <td>0.908964</td>\n",
       "      <td>0.303086</td>\n",
       "      <td>0.8920</td>\n",
       "    </tr>\n",
       "    <tr>\n",
       "      <th>24</th>\n",
       "      <td>0.245319</td>\n",
       "      <td>0.911218</td>\n",
       "      <td>0.298303</td>\n",
       "      <td>0.8924</td>\n",
       "    </tr>\n",
       "    <tr>\n",
       "      <th>25</th>\n",
       "      <td>0.242227</td>\n",
       "      <td>0.911800</td>\n",
       "      <td>0.302030</td>\n",
       "      <td>0.8942</td>\n",
       "    </tr>\n",
       "    <tr>\n",
       "      <th>26</th>\n",
       "      <td>0.237853</td>\n",
       "      <td>0.913182</td>\n",
       "      <td>0.296242</td>\n",
       "      <td>0.8918</td>\n",
       "    </tr>\n",
       "    <tr>\n",
       "      <th>27</th>\n",
       "      <td>0.233487</td>\n",
       "      <td>0.915745</td>\n",
       "      <td>0.306152</td>\n",
       "      <td>0.8860</td>\n",
       "    </tr>\n",
       "    <tr>\n",
       "      <th>28</th>\n",
       "      <td>0.230188</td>\n",
       "      <td>0.918236</td>\n",
       "      <td>0.318109</td>\n",
       "      <td>0.8882</td>\n",
       "    </tr>\n",
       "    <tr>\n",
       "      <th>29</th>\n",
       "      <td>0.227200</td>\n",
       "      <td>0.917527</td>\n",
       "      <td>0.296415</td>\n",
       "      <td>0.8926</td>\n",
       "    </tr>\n",
       "  </tbody>\n",
       "</table>\n",
       "</div>"
      ],
      "text/plain": [
       "        loss  accuracy  val_loss  val_accuracy\n",
       "20  0.263550  0.904473  0.315249        0.8878\n",
       "21  0.258811  0.906782  0.310559        0.8878\n",
       "22  0.254937  0.907855  0.303981        0.8888\n",
       "23  0.249726  0.908964  0.303086        0.8920\n",
       "24  0.245319  0.911218  0.298303        0.8924\n",
       "25  0.242227  0.911800  0.302030        0.8942\n",
       "26  0.237853  0.913182  0.296242        0.8918\n",
       "27  0.233487  0.915745  0.306152        0.8860\n",
       "28  0.230188  0.918236  0.318109        0.8882\n",
       "29  0.227200  0.917527  0.296415        0.8926"
      ]
     },
     "execution_count": 17,
     "metadata": {},
     "output_type": "execute_result"
    }
   ],
   "source": [
    "df = pd.DataFrame(history.history)\n",
    "df.tail(10)"
   ]
  },
  {
   "cell_type": "code",
   "execution_count": 19,
   "metadata": {},
   "outputs": [
    {
     "data": {
      "application/vnd.jupyter.widget-view+json": {
       "model_id": "90888c56849f49fba18ea08e8b866286",
       "version_major": 2,
       "version_minor": 0
      },
      "text/plain": [
       "Canvas(toolbar=Toolbar(toolitems=[('Home', 'Reset original view', 'home', 'home'), ('Back', 'Back to previous …"
      ]
     },
     "metadata": {},
     "output_type": "display_data"
    }
   ],
   "source": [
    "df.plot(figsize=(10, 6))\n",
    "plt.grid(True)\n",
    "plt.gca().set_ylim(0, 1);"
   ]
  },
  {
   "cell_type": "code",
   "execution_count": null,
   "metadata": {},
   "outputs": [],
   "source": []
  }
 ],
 "metadata": {
  "kernelspec": {
   "display_name": "Python 3",
   "language": "python",
   "name": "python3"
  },
  "language_info": {
   "codemirror_mode": {
    "name": "ipython",
    "version": 3
   },
   "file_extension": ".py",
   "mimetype": "text/x-python",
   "name": "python",
   "nbconvert_exporter": "python",
   "pygments_lexer": "ipython3",
   "version": "3.7.7"
  }
 },
 "nbformat": 4,
 "nbformat_minor": 4
}
