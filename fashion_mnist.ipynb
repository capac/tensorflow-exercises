{
 "cells": [
  {
   "cell_type": "markdown",
   "metadata": {},
   "source": [
    "# Building an image classifier using the sequential API\n",
    "\n",
    "Following step-by-step procedure in Chapter 10 of Aurélien Géron's book _Hands-on Machine Learning with Scikit-Learn, Keras and TensorFlow_."
   ]
  },
  {
   "cell_type": "code",
   "execution_count": 1,
   "metadata": {},
   "outputs": [
    {
     "name": "stderr",
     "output_type": "stream",
     "text": [
      "\n",
      "Bad key \"text.kerning_factor\" on line 4 in\n",
      "/Applications/Computation/miniconda3/lib/python3.7/site-packages/matplotlib/mpl-data/stylelib/_classic_test_patch.mplstyle.\n",
      "You probably need to get an updated matplotlibrc file from\n",
      "https://github.com/matplotlib/matplotlib/blob/v3.1.3/matplotlibrc.template\n",
      "or from the matplotlib source distribution\n"
     ]
    }
   ],
   "source": [
    "from pathlib import Path, PurePath\n",
    "import pandas as pd\n",
    "from time import time\n",
    "import matplotlib.pyplot as plt\n",
    "import h5py\n",
    "%matplotlib inline"
   ]
  },
  {
   "cell_type": "code",
   "execution_count": 2,
   "metadata": {},
   "outputs": [
    {
     "name": "stdout",
     "output_type": "stream",
     "text": [
      "TensorFlow version: 2.0.0\n",
      "Keras version: 2.2.4-tf\n"
     ]
    }
   ],
   "source": [
    "import tensorflow\n",
    "print(f'TensorFlow version: {tensorflow.__version__}')\n",
    "from tensorflow import keras\n",
    "print(f'Keras version: {keras.__version__}')"
   ]
  },
  {
   "cell_type": "code",
   "execution_count": 3,
   "metadata": {},
   "outputs": [],
   "source": [
    "import os\n",
    "os.environ['KMP_DUPLICATE_LIB_OK']='True'"
   ]
  },
  {
   "cell_type": "markdown",
   "metadata": {},
   "source": [
    "We will be using the _Fashion MNIST data set_, which has fashion image items instead of numbers."
   ]
  },
  {
   "cell_type": "code",
   "execution_count": 4,
   "metadata": {},
   "outputs": [],
   "source": [
    "fashion_mnist = keras.datasets.fashion_mnist\n",
    "(X_train_full, y_train_full), (X_test, y_test) = fashion_mnist.load_data()"
   ]
  },
  {
   "cell_type": "code",
   "execution_count": 5,
   "metadata": {},
   "outputs": [
    {
     "name": "stdout",
     "output_type": "stream",
     "text": [
      "X_train_full.shape: (60000, 28, 28)\n",
      "X_train_full.dtype: uint8\n"
     ]
    }
   ],
   "source": [
    "print(f'X_train_full.shape: {X_train_full.shape}')\n",
    "print(f'X_train_full.dtype: {X_train_full.dtype}')"
   ]
  },
  {
   "cell_type": "code",
   "execution_count": 6,
   "metadata": {},
   "outputs": [],
   "source": [
    "X_valid, X_train = X_train_full[:5000] / 255.0, X_train_full[5000:] / 255.0\n",
    "y_valid, y_train = y_train_full[:5000], y_train_full[5000:]"
   ]
  },
  {
   "cell_type": "code",
   "execution_count": 7,
   "metadata": {},
   "outputs": [],
   "source": [
    "class_names = [\"T-shirt/top\", \"Trouser\", \"Pullover\", \"Dress\", \"Coat\", \"Sandal\", \"Shirt\", \"Sneaker\", \"Bag\", \"Ankle boot\"]"
   ]
  },
  {
   "cell_type": "markdown",
   "metadata": {},
   "source": [
    "## Build model with sequential API"
   ]
  },
  {
   "cell_type": "code",
   "execution_count": 8,
   "metadata": {},
   "outputs": [],
   "source": [
    "model = keras.models.Sequential([keras.layers.Flatten(input_shape=[28, 28]), \\\n",
    "                                 keras.layers.Dense(300, activation=\"relu\"), \\\n",
    "                                 keras.layers.Dense(100, activation=\"relu\"), \\\n",
    "                                 keras.layers.Dense(10, activation=\"softmax\")])"
   ]
  },
  {
   "cell_type": "code",
   "execution_count": 9,
   "metadata": {},
   "outputs": [
    {
     "name": "stdout",
     "output_type": "stream",
     "text": [
      "Model: \"sequential\"\n",
      "_________________________________________________________________\n",
      "Layer (type)                 Output Shape              Param #   \n",
      "=================================================================\n",
      "flatten (Flatten)            (None, 784)               0         \n",
      "_________________________________________________________________\n",
      "dense (Dense)                (None, 300)               235500    \n",
      "_________________________________________________________________\n",
      "dense_1 (Dense)              (None, 100)               30100     \n",
      "_________________________________________________________________\n",
      "dense_2 (Dense)              (None, 10)                1010      \n",
      "=================================================================\n",
      "Total params: 266,610\n",
      "Trainable params: 266,610\n",
      "Non-trainable params: 0\n",
      "_________________________________________________________________\n"
     ]
    }
   ],
   "source": [
    "model.summary()"
   ]
  },
  {
   "cell_type": "code",
   "execution_count": 10,
   "metadata": {},
   "outputs": [
    {
     "data": {
      "text/plain": [
       "[<tensorflow.python.keras.layers.core.Flatten at 0x64b0cee10>,\n",
       " <tensorflow.python.keras.layers.core.Dense at 0x112018610>,\n",
       " <tensorflow.python.keras.layers.core.Dense at 0x64b0c6450>,\n",
       " <tensorflow.python.keras.layers.core.Dense at 0x64b0c6bd0>]"
      ]
     },
     "execution_count": 10,
     "metadata": {},
     "output_type": "execute_result"
    }
   ],
   "source": [
    "model.layers"
   ]
  },
  {
   "cell_type": "code",
   "execution_count": 11,
   "metadata": {},
   "outputs": [
    {
     "data": {
      "text/plain": [
       "'dense'"
      ]
     },
     "execution_count": 11,
     "metadata": {},
     "output_type": "execute_result"
    }
   ],
   "source": [
    "hidden1 = model.layers[1]\n",
    "hidden1.name"
   ]
  },
  {
   "cell_type": "code",
   "execution_count": 12,
   "metadata": {},
   "outputs": [
    {
     "data": {
      "text/plain": [
       "False"
      ]
     },
     "execution_count": 12,
     "metadata": {},
     "output_type": "execute_result"
    }
   ],
   "source": [
    "model.get_layer('dense_2') is hidden1"
   ]
  },
  {
   "cell_type": "code",
   "execution_count": 13,
   "metadata": {},
   "outputs": [],
   "source": [
    "weights, biases = hidden1.get_weights()"
   ]
  },
  {
   "cell_type": "markdown",
   "metadata": {},
   "source": [
    "### Compiling the model"
   ]
  },
  {
   "cell_type": "code",
   "execution_count": 14,
   "metadata": {},
   "outputs": [],
   "source": [
    "model.compile(loss=\"sparse_categorical_crossentropy\", optimizer=\"sgd\", metrics=[\"accuracy\"])"
   ]
  },
  {
   "cell_type": "code",
   "execution_count": 15,
   "metadata": {},
   "outputs": [
    {
     "name": "stdout",
     "output_type": "stream",
     "text": [
      "Train on 55000 samples, validate on 5000 samples\n",
      "Epoch 1/30\n",
      "55000/55000 [==============================] - 8s 137us/sample - loss: 0.7027 - accuracy: 0.7717 - val_loss: 0.5073 - val_accuracy: 0.8274\n",
      "Epoch 2/30\n",
      "55000/55000 [==============================] - 7s 130us/sample - loss: 0.4880 - accuracy: 0.8292 - val_loss: 0.4441 - val_accuracy: 0.8440\n",
      "Epoch 3/30\n",
      "55000/55000 [==============================] - 8s 152us/sample - loss: 0.4424 - accuracy: 0.8453 - val_loss: 0.4309 - val_accuracy: 0.8538\n",
      "Epoch 4/30\n",
      "55000/55000 [==============================] - 7s 136us/sample - loss: 0.4164 - accuracy: 0.8552 - val_loss: 0.4029 - val_accuracy: 0.8638\n",
      "Epoch 5/30\n",
      "55000/55000 [==============================] - 7s 136us/sample - loss: 0.3961 - accuracy: 0.8616 - val_loss: 0.3934 - val_accuracy: 0.8636\n",
      "Epoch 6/30\n",
      "55000/55000 [==============================] - 8s 138us/sample - loss: 0.3793 - accuracy: 0.8665 - val_loss: 0.3758 - val_accuracy: 0.8690\n",
      "Epoch 7/30\n",
      "55000/55000 [==============================] - 8s 144us/sample - loss: 0.3659 - accuracy: 0.8714 - val_loss: 0.3611 - val_accuracy: 0.8752\n",
      "Epoch 8/30\n",
      "55000/55000 [==============================] - 8s 142us/sample - loss: 0.3539 - accuracy: 0.8743 - val_loss: 0.3514 - val_accuracy: 0.8774\n",
      "Epoch 9/30\n",
      "55000/55000 [==============================] - 7s 136us/sample - loss: 0.3441 - accuracy: 0.8779 - val_loss: 0.3440 - val_accuracy: 0.8784\n",
      "Epoch 10/30\n",
      "55000/55000 [==============================] - 8s 141us/sample - loss: 0.3332 - accuracy: 0.8812 - val_loss: 0.3572 - val_accuracy: 0.8746\n",
      "Epoch 11/30\n",
      "55000/55000 [==============================] - 8s 138us/sample - loss: 0.3254 - accuracy: 0.8819 - val_loss: 0.3442 - val_accuracy: 0.8766\n",
      "Epoch 12/30\n",
      "55000/55000 [==============================] - 8s 151us/sample - loss: 0.3177 - accuracy: 0.8861 - val_loss: 0.3355 - val_accuracy: 0.8834\n",
      "Epoch 13/30\n",
      "55000/55000 [==============================] - 7s 133us/sample - loss: 0.3104 - accuracy: 0.8889 - val_loss: 0.3278 - val_accuracy: 0.8834\n",
      "Epoch 14/30\n",
      "55000/55000 [==============================] - 8s 139us/sample - loss: 0.3032 - accuracy: 0.8904 - val_loss: 0.3403 - val_accuracy: 0.8774\n",
      "Epoch 15/30\n",
      "55000/55000 [==============================] - 7s 129us/sample - loss: 0.2964 - accuracy: 0.8931 - val_loss: 0.3146 - val_accuracy: 0.8872\n",
      "Epoch 16/30\n",
      "55000/55000 [==============================] - 8s 140us/sample - loss: 0.2907 - accuracy: 0.8957 - val_loss: 0.3354 - val_accuracy: 0.8814\n",
      "Epoch 17/30\n",
      "55000/55000 [==============================] - 7s 135us/sample - loss: 0.2845 - accuracy: 0.8969 - val_loss: 0.3386 - val_accuracy: 0.8782\n",
      "Epoch 18/30\n",
      "55000/55000 [==============================] - 7s 133us/sample - loss: 0.2797 - accuracy: 0.8978 - val_loss: 0.3346 - val_accuracy: 0.8784\n",
      "Epoch 19/30\n",
      "55000/55000 [==============================] - 7s 136us/sample - loss: 0.2743 - accuracy: 0.9003 - val_loss: 0.3123 - val_accuracy: 0.8904\n",
      "Epoch 20/30\n",
      "55000/55000 [==============================] - 7s 132us/sample - loss: 0.2691 - accuracy: 0.9019 - val_loss: 0.3052 - val_accuracy: 0.8900\n",
      "Epoch 21/30\n",
      "55000/55000 [==============================] - 7s 129us/sample - loss: 0.2639 - accuracy: 0.9046 - val_loss: 0.3201 - val_accuracy: 0.8846\n",
      "Epoch 22/30\n",
      "55000/55000 [==============================] - 8s 138us/sample - loss: 0.2584 - accuracy: 0.9069 - val_loss: 0.2968 - val_accuracy: 0.8920\n",
      "Epoch 23/30\n",
      "55000/55000 [==============================] - 9s 170us/sample - loss: 0.2546 - accuracy: 0.9078 - val_loss: 0.3042 - val_accuracy: 0.8904\n",
      "Epoch 24/30\n",
      "55000/55000 [==============================] - 9s 155us/sample - loss: 0.2505 - accuracy: 0.9099 - val_loss: 0.3026 - val_accuracy: 0.8902\n",
      "Epoch 25/30\n",
      "55000/55000 [==============================] - 9s 157us/sample - loss: 0.2461 - accuracy: 0.9116 - val_loss: 0.3025 - val_accuracy: 0.8916\n",
      "Epoch 26/30\n",
      "55000/55000 [==============================] - 8s 140us/sample - loss: 0.2416 - accuracy: 0.9127 - val_loss: 0.2977 - val_accuracy: 0.8946\n",
      "Epoch 27/30\n",
      "55000/55000 [==============================] - 8s 136us/sample - loss: 0.2376 - accuracy: 0.9143 - val_loss: 0.2972 - val_accuracy: 0.8928\n",
      "Epoch 28/30\n",
      "55000/55000 [==============================] - 7s 134us/sample - loss: 0.2338 - accuracy: 0.9155 - val_loss: 0.3063 - val_accuracy: 0.8886\n",
      "Epoch 29/30\n",
      "55000/55000 [==============================] - 7s 135us/sample - loss: 0.2309 - accuracy: 0.9174 - val_loss: 0.3016 - val_accuracy: 0.8902\n",
      "Epoch 30/30\n",
      "55000/55000 [==============================] - 7s 135us/sample - loss: 0.2264 - accuracy: 0.9199 - val_loss: 0.2969 - val_accuracy: 0.8954\n",
      "Time elapsed: 230.3412 sec\n"
     ]
    }
   ],
   "source": [
    "t0 = time()\n",
    "history = model.fit(X_train, y_train, epochs=30, validation_data=(X_valid, y_valid))\n",
    "print(f'Time elapsed: {time() - t0:.4f} sec')"
   ]
  },
  {
   "cell_type": "code",
   "execution_count": 16,
   "metadata": {},
   "outputs": [
    {
     "name": "stdout",
     "output_type": "stream",
     "text": [
      "Type: <class 'tensorflow.python.keras.callbacks.History'>\n"
     ]
    }
   ],
   "source": [
    "print(f'Type: {type(history)}')"
   ]
  },
  {
   "cell_type": "code",
   "execution_count": 17,
   "metadata": {},
   "outputs": [
    {
     "data": {
      "text/plain": [
       "{'batch_size': 32,\n",
       " 'epochs': 30,\n",
       " 'steps': 1719,\n",
       " 'samples': 55000,\n",
       " 'verbose': 0,\n",
       " 'do_validation': True,\n",
       " 'metrics': ['loss', 'accuracy', 'val_loss', 'val_accuracy']}"
      ]
     },
     "execution_count": 17,
     "metadata": {},
     "output_type": "execute_result"
    }
   ],
   "source": [
    "history.params"
   ]
  },
  {
   "cell_type": "code",
   "execution_count": 18,
   "metadata": {},
   "outputs": [
    {
     "data": {
      "text/html": [
       "<div>\n",
       "<style scoped>\n",
       "    .dataframe tbody tr th:only-of-type {\n",
       "        vertical-align: middle;\n",
       "    }\n",
       "\n",
       "    .dataframe tbody tr th {\n",
       "        vertical-align: top;\n",
       "    }\n",
       "\n",
       "    .dataframe thead th {\n",
       "        text-align: right;\n",
       "    }\n",
       "</style>\n",
       "<table border=\"1\" class=\"dataframe\">\n",
       "  <thead>\n",
       "    <tr style=\"text-align: right;\">\n",
       "      <th></th>\n",
       "      <th>loss</th>\n",
       "      <th>accuracy</th>\n",
       "      <th>val_loss</th>\n",
       "      <th>val_accuracy</th>\n",
       "    </tr>\n",
       "  </thead>\n",
       "  <tbody>\n",
       "    <tr>\n",
       "      <th>20</th>\n",
       "      <td>0.263904</td>\n",
       "      <td>0.904636</td>\n",
       "      <td>0.320117</td>\n",
       "      <td>0.8846</td>\n",
       "    </tr>\n",
       "    <tr>\n",
       "      <th>21</th>\n",
       "      <td>0.258436</td>\n",
       "      <td>0.906909</td>\n",
       "      <td>0.296789</td>\n",
       "      <td>0.8920</td>\n",
       "    </tr>\n",
       "    <tr>\n",
       "      <th>22</th>\n",
       "      <td>0.254595</td>\n",
       "      <td>0.907782</td>\n",
       "      <td>0.304167</td>\n",
       "      <td>0.8904</td>\n",
       "    </tr>\n",
       "    <tr>\n",
       "      <th>23</th>\n",
       "      <td>0.250472</td>\n",
       "      <td>0.909945</td>\n",
       "      <td>0.302599</td>\n",
       "      <td>0.8902</td>\n",
       "    </tr>\n",
       "    <tr>\n",
       "      <th>24</th>\n",
       "      <td>0.246072</td>\n",
       "      <td>0.911564</td>\n",
       "      <td>0.302463</td>\n",
       "      <td>0.8916</td>\n",
       "    </tr>\n",
       "    <tr>\n",
       "      <th>25</th>\n",
       "      <td>0.241588</td>\n",
       "      <td>0.912727</td>\n",
       "      <td>0.297736</td>\n",
       "      <td>0.8946</td>\n",
       "    </tr>\n",
       "    <tr>\n",
       "      <th>26</th>\n",
       "      <td>0.237638</td>\n",
       "      <td>0.914255</td>\n",
       "      <td>0.297180</td>\n",
       "      <td>0.8928</td>\n",
       "    </tr>\n",
       "    <tr>\n",
       "      <th>27</th>\n",
       "      <td>0.233773</td>\n",
       "      <td>0.915527</td>\n",
       "      <td>0.306266</td>\n",
       "      <td>0.8886</td>\n",
       "    </tr>\n",
       "    <tr>\n",
       "      <th>28</th>\n",
       "      <td>0.230852</td>\n",
       "      <td>0.917364</td>\n",
       "      <td>0.301551</td>\n",
       "      <td>0.8902</td>\n",
       "    </tr>\n",
       "    <tr>\n",
       "      <th>29</th>\n",
       "      <td>0.226363</td>\n",
       "      <td>0.919855</td>\n",
       "      <td>0.296893</td>\n",
       "      <td>0.8954</td>\n",
       "    </tr>\n",
       "  </tbody>\n",
       "</table>\n",
       "</div>"
      ],
      "text/plain": [
       "        loss  accuracy  val_loss  val_accuracy\n",
       "20  0.263904  0.904636  0.320117        0.8846\n",
       "21  0.258436  0.906909  0.296789        0.8920\n",
       "22  0.254595  0.907782  0.304167        0.8904\n",
       "23  0.250472  0.909945  0.302599        0.8902\n",
       "24  0.246072  0.911564  0.302463        0.8916\n",
       "25  0.241588  0.912727  0.297736        0.8946\n",
       "26  0.237638  0.914255  0.297180        0.8928\n",
       "27  0.233773  0.915527  0.306266        0.8886\n",
       "28  0.230852  0.917364  0.301551        0.8902\n",
       "29  0.226363  0.919855  0.296893        0.8954"
      ]
     },
     "execution_count": 18,
     "metadata": {},
     "output_type": "execute_result"
    }
   ],
   "source": [
    "df = pd.DataFrame(history.history)\n",
    "df.tail(10)"
   ]
  },
  {
   "cell_type": "code",
   "execution_count": 19,
   "metadata": {},
   "outputs": [
    {
     "data": {
      "text/plain": [
       "(30, 4)"
      ]
     },
     "execution_count": 19,
     "metadata": {},
     "output_type": "execute_result"
    }
   ],
   "source": [
    "df.shape"
   ]
  },
  {
   "cell_type": "code",
   "execution_count": 20,
   "metadata": {},
   "outputs": [
    {
     "name": "stdout",
     "output_type": "stream",
     "text": [
      "<class 'pandas.core.frame.DataFrame'>\n",
      "RangeIndex: 30 entries, 0 to 29\n",
      "Data columns (total 4 columns):\n",
      " #   Column        Non-Null Count  Dtype  \n",
      "---  ------        --------------  -----  \n",
      " 0   loss          30 non-null     float64\n",
      " 1   accuracy      30 non-null     float64\n",
      " 2   val_loss      30 non-null     float64\n",
      " 3   val_accuracy  30 non-null     float64\n",
      "dtypes: float64(4)\n",
      "memory usage: 1.1 KB\n"
     ]
    }
   ],
   "source": [
    "df.info()"
   ]
  },
  {
   "cell_type": "code",
   "execution_count": 21,
   "metadata": {},
   "outputs": [
    {
     "data": {
      "image/png": "[encoded data removed]",
      "text/plain": [
       "<Figure size 864x720 with 1 Axes>"
      ]
     },
     "metadata": {
      "needs_background": "light"
     },
     "output_type": "display_data"
    }
   ],
   "source": [
    "df.plot(figsize=(12, 10))\n",
    "plt.grid(True)\n",
    "plt.gca().set_ylim(0, 1);"
   ]
  }
 ],
 "metadata": {
  "kernelspec": {
   "display_name": "Python 3",
   "language": "python",
   "name": "python3"
  },
  "language_info": {
   "codemirror_mode": {
    "name": "ipython",
    "version": 3
   },
   "file_extension": ".py",
   "mimetype": "text/x-python",
   "name": "python",
   "nbconvert_exporter": "python",
   "pygments_lexer": "ipython3",
   "version": "3.7.6"
  }
 },
 "nbformat": 4,
 "nbformat_minor": 4
}
