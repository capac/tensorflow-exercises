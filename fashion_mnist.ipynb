{
 "cells": [
  {
   "cell_type": "markdown",
   "metadata": {},
   "source": [
    "# Building an image classifier using the sequential API"
   ]
  },
  {
   "cell_type": "code",
   "execution_count": 1,
   "metadata": {},
   "outputs": [
    {
     "name": "stdout",
     "output_type": "stream",
     "text": [
      "TensorFlow version: 2.0.0\n",
      "Keras version: 2.2.4-tf\n"
     ]
    }
   ],
   "source": [
    "import tensorflow\n",
    "print(f'TensorFlow version: {tensorflow.__version__}')\n",
    "from tensorflow import keras\n",
    "print(f'Keras version: {keras.__version__}')"
   ]
  },
  {
   "cell_type": "markdown",
   "metadata": {},
   "source": [
    "We will be using the _Fashion MNIST data set_, which has fashion image items instead of numbers."
   ]
  },
  {
   "cell_type": "code",
   "execution_count": 2,
   "metadata": {},
   "outputs": [],
   "source": [
    "fashion_mnist = keras.datasets.fashion_mnist\n",
    "(X_train_full, y_train_full), (X_test, y_test) = fashion_mnist.load_data()"
   ]
  },
  {
   "cell_type": "code",
   "execution_count": 3,
   "metadata": {},
   "outputs": [
    {
     "name": "stdout",
     "output_type": "stream",
     "text": [
      "X_train_full.shape: (60000, 28, 28)\n",
      "X_train_full.dtype: uint8\n"
     ]
    }
   ],
   "source": [
    "print(f'X_train_full.shape: {X_train_full.shape}')\n",
    "print(f'X_train_full.dtype: {X_train_full.dtype}')"
   ]
  },
  {
   "cell_type": "code",
   "execution_count": 4,
   "metadata": {},
   "outputs": [],
   "source": [
    "X_valid, X_train = X_train_full[:5000] / 255.0, X_train_full[5000:] / 255.0\n",
    "y_valid, y_train = y_train_full[:5000], y_train_full[5000:]"
   ]
  },
  {
   "cell_type": "code",
   "execution_count": 5,
   "metadata": {},
   "outputs": [],
   "source": [
    "class_names = [\"T-shirt/top\", \"Trouser\", \"Pullover\", \"Dress\", \"Coat\", \"Sandal\", \"Shirt\", \"Sneaker\", \"Bag\", \"Ankle boot\"]"
   ]
  },
  {
   "cell_type": "markdown",
   "metadata": {},
   "source": [
    "## Build model with sequential API"
   ]
  },
  {
   "cell_type": "code",
   "execution_count": 6,
   "metadata": {},
   "outputs": [],
   "source": [
    "model = keras.models.Sequential([keras.layers.Flatten(input_shape=[28, 28]), keras.layers.Dense(300, activation=\"relu\"), \\\n",
    "                                 keras.layers.Dense(100, activation=\"relu\"), keras.layers.Dense(10, activation=\"softmax\")])"
   ]
  },
  {
   "cell_type": "code",
   "execution_count": 7,
   "metadata": {},
   "outputs": [
    {
     "name": "stdout",
     "output_type": "stream",
     "text": [
      "Model: \"sequential\"\n",
      "_________________________________________________________________\n",
      "Layer (type)                 Output Shape              Param #   \n",
      "=================================================================\n",
      "flatten (Flatten)            (None, 784)               0         \n",
      "_________________________________________________________________\n",
      "dense (Dense)                (None, 300)               235500    \n",
      "_________________________________________________________________\n",
      "dense_1 (Dense)              (None, 100)               30100     \n",
      "_________________________________________________________________\n",
      "dense_2 (Dense)              (None, 10)                1010      \n",
      "=================================================================\n",
      "Total params: 266,610\n",
      "Trainable params: 266,610\n",
      "Non-trainable params: 0\n",
      "_________________________________________________________________\n"
     ]
    }
   ],
   "source": [
    "model.summary()"
   ]
  },
  {
   "cell_type": "code",
   "execution_count": 8,
   "metadata": {},
   "outputs": [
    {
     "data": {
      "text/plain": [
       "[<tensorflow.python.keras.layers.core.Flatten at 0x63b998bd0>,\n",
       " <tensorflow.python.keras.layers.core.Dense at 0x63b981ed0>,\n",
       " <tensorflow.python.keras.layers.core.Dense at 0x639210e50>,\n",
       " <tensorflow.python.keras.layers.core.Dense at 0x10303d250>]"
      ]
     },
     "execution_count": 8,
     "metadata": {},
     "output_type": "execute_result"
    }
   ],
   "source": [
    "model.layers"
   ]
  },
  {
   "cell_type": "code",
   "execution_count": 9,
   "metadata": {},
   "outputs": [
    {
     "data": {
      "text/plain": [
       "'dense'"
      ]
     },
     "execution_count": 9,
     "metadata": {},
     "output_type": "execute_result"
    }
   ],
   "source": [
    "hidden1 = model.layers[1]\n",
    "hidden1.name"
   ]
  },
  {
   "cell_type": "code",
   "execution_count": 10,
   "metadata": {},
   "outputs": [
    {
     "data": {
      "text/plain": [
       "False"
      ]
     },
     "execution_count": 10,
     "metadata": {},
     "output_type": "execute_result"
    }
   ],
   "source": [
    "model.get_layer('dense_2') is hidden1"
   ]
  },
  {
   "cell_type": "code",
   "execution_count": 11,
   "metadata": {},
   "outputs": [],
   "source": [
    "weights, biases = hidden1.get_weights()"
   ]
  },
  {
   "cell_type": "markdown",
   "metadata": {},
   "source": [
    "### Compiling the model"
   ]
  },
  {
   "cell_type": "code",
   "execution_count": 12,
   "metadata": {},
   "outputs": [],
   "source": [
    "model.compile(loss=\"sparse_categorical_crossentropy\", optimizer=\"sgd\", metrics=[\"accuracy\"])"
   ]
  },
  {
   "cell_type": "code",
   "execution_count": 13,
   "metadata": {},
   "outputs": [
    {
     "name": "stdout",
     "output_type": "stream",
     "text": [
      "Train on 55000 samples, validate on 5000 samples\n",
      "Epoch 1/30\n",
      "55000/55000 [==============================] - 8s 140us/sample - loss: 0.7034 - accuracy: 0.7708 - val_loss: 0.5061 - val_accuracy: 0.8298\n",
      "Epoch 2/30\n",
      "55000/55000 [==============================] - 7s 121us/sample - loss: 0.4847 - accuracy: 0.8319 - val_loss: 0.4472 - val_accuracy: 0.8486\n",
      "Epoch 3/30\n",
      "55000/55000 [==============================] - 7s 129us/sample - loss: 0.4391 - accuracy: 0.8459 - val_loss: 0.4074 - val_accuracy: 0.8594\n",
      "Epoch 4/30\n",
      "55000/55000 [==============================] - 7s 129us/sample - loss: 0.4136 - accuracy: 0.8547 - val_loss: 0.4187 - val_accuracy: 0.8576\n",
      "Epoch 5/30\n",
      "55000/55000 [==============================] - 7s 131us/sample - loss: 0.3930 - accuracy: 0.8623 - val_loss: 0.3743 - val_accuracy: 0.8734\n",
      "Epoch 6/30\n",
      "55000/55000 [==============================] - 8s 140us/sample - loss: 0.3778 - accuracy: 0.8680 - val_loss: 0.3720 - val_accuracy: 0.8732\n",
      "Epoch 7/30\n",
      "55000/55000 [==============================] - 8s 141us/sample - loss: 0.3638 - accuracy: 0.8715 - val_loss: 0.3810 - val_accuracy: 0.8690\n",
      "Epoch 8/30\n",
      "55000/55000 [==============================] - 8s 146us/sample - loss: 0.3526 - accuracy: 0.8743 - val_loss: 0.3657 - val_accuracy: 0.8726\n",
      "Epoch 9/30\n",
      "55000/55000 [==============================] - 8s 148us/sample - loss: 0.3422 - accuracy: 0.8791 - val_loss: 0.3510 - val_accuracy: 0.8744\n",
      "Epoch 10/30\n",
      "55000/55000 [==============================] - 8s 137us/sample - loss: 0.3332 - accuracy: 0.8811 - val_loss: 0.3398 - val_accuracy: 0.8794\n",
      "Epoch 11/30\n",
      "55000/55000 [==============================] - 8s 140us/sample - loss: 0.3242 - accuracy: 0.8848 - val_loss: 0.3432 - val_accuracy: 0.8790\n",
      "Epoch 12/30\n",
      "55000/55000 [==============================] - 8s 151us/sample - loss: 0.3173 - accuracy: 0.8874 - val_loss: 0.3375 - val_accuracy: 0.8818\n",
      "Epoch 13/30\n",
      "55000/55000 [==============================] - 8s 150us/sample - loss: 0.3097 - accuracy: 0.8897 - val_loss: 0.3363 - val_accuracy: 0.8796\n",
      "Epoch 14/30\n",
      "55000/55000 [==============================] - 8s 149us/sample - loss: 0.3044 - accuracy: 0.8905 - val_loss: 0.3323 - val_accuracy: 0.8834\n",
      "Epoch 15/30\n",
      "55000/55000 [==============================] - 8s 145us/sample - loss: 0.2969 - accuracy: 0.8931 - val_loss: 0.3246 - val_accuracy: 0.8816\n",
      "Epoch 16/30\n",
      "55000/55000 [==============================] - 8s 149us/sample - loss: 0.2907 - accuracy: 0.8958 - val_loss: 0.3245 - val_accuracy: 0.8870\n",
      "Epoch 17/30\n",
      "55000/55000 [==============================] - 8s 146us/sample - loss: 0.2858 - accuracy: 0.8973 - val_loss: 0.3199 - val_accuracy: 0.8860\n",
      "Epoch 18/30\n",
      "55000/55000 [==============================] - 8s 145us/sample - loss: 0.2794 - accuracy: 0.9001 - val_loss: 0.3123 - val_accuracy: 0.8880\n",
      "Epoch 19/30\n",
      "55000/55000 [==============================] - 8s 148us/sample - loss: 0.2737 - accuracy: 0.9012 - val_loss: 0.3176 - val_accuracy: 0.8830\n",
      "Epoch 20/30\n",
      "55000/55000 [==============================] - 8s 147us/sample - loss: 0.2695 - accuracy: 0.9023 - val_loss: 0.3127 - val_accuracy: 0.8856\n",
      "Epoch 21/30\n",
      "55000/55000 [==============================] - 8s 149us/sample - loss: 0.2652 - accuracy: 0.9054 - val_loss: 0.3119 - val_accuracy: 0.8856\n",
      "Epoch 22/30\n",
      "55000/55000 [==============================] - 8s 147us/sample - loss: 0.2602 - accuracy: 0.9063 - val_loss: 0.3054 - val_accuracy: 0.8856\n",
      "Epoch 23/30\n",
      "55000/55000 [==============================] - 8s 146us/sample - loss: 0.2556 - accuracy: 0.9079 - val_loss: 0.3244 - val_accuracy: 0.8794\n",
      "Epoch 24/30\n",
      "55000/55000 [==============================] - 8s 146us/sample - loss: 0.2506 - accuracy: 0.9094 - val_loss: 0.3009 - val_accuracy: 0.8888\n",
      "Epoch 25/30\n",
      "55000/55000 [==============================] - 8s 146us/sample - loss: 0.2463 - accuracy: 0.9119 - val_loss: 0.3301 - val_accuracy: 0.8772\n",
      "Epoch 26/30\n",
      "55000/55000 [==============================] - 9s 163us/sample - loss: 0.2420 - accuracy: 0.9141 - val_loss: 0.3082 - val_accuracy: 0.8884\n",
      "Epoch 27/30\n",
      "55000/55000 [==============================] - 9s 161us/sample - loss: 0.2386 - accuracy: 0.9145 - val_loss: 0.3008 - val_accuracy: 0.8904\n",
      "Epoch 28/30\n",
      "55000/55000 [==============================] - 9s 159us/sample - loss: 0.2351 - accuracy: 0.9152 - val_loss: 0.3030 - val_accuracy: 0.8846\n",
      "Epoch 29/30\n",
      "55000/55000 [==============================] - 9s 173us/sample - loss: 0.2313 - accuracy: 0.9167 - val_loss: 0.3085 - val_accuracy: 0.8862\n",
      "Epoch 30/30\n",
      "55000/55000 [==============================] - 9s 162us/sample - loss: 0.2262 - accuracy: 0.9193 - val_loss: 0.2959 - val_accuracy: 0.8888\n",
      "Time elapsed: 241.15s\n"
     ]
    }
   ],
   "source": [
    "from time import time\n",
    "t0 = time()\n",
    "history = model.fit(X_train, y_train, epochs=30, validation_data=(X_valid, y_valid))\n",
    "print(f'Time elapsed: {time() - t0:.2f}s')"
   ]
  },
  {
   "cell_type": "code",
   "execution_count": 14,
   "metadata": {},
   "outputs": [
    {
     "data": {
      "text/plain": [
       "{'batch_size': 32,\n",
       " 'epochs': 30,\n",
       " 'steps': 1719,\n",
       " 'samples': 55000,\n",
       " 'verbose': 0,\n",
       " 'do_validation': True,\n",
       " 'metrics': ['loss', 'accuracy', 'val_loss', 'val_accuracy']}"
      ]
     },
     "execution_count": 14,
     "metadata": {},
     "output_type": "execute_result"
    }
   ],
   "source": [
    "history.params"
   ]
  },
  {
   "cell_type": "code",
   "execution_count": 15,
   "metadata": {},
   "outputs": [
    {
     "data": {
      "text/html": [
       "<div>\n",
       "<style scoped>\n",
       "    .dataframe tbody tr th:only-of-type {\n",
       "        vertical-align: middle;\n",
       "    }\n",
       "\n",
       "    .dataframe tbody tr th {\n",
       "        vertical-align: top;\n",
       "    }\n",
       "\n",
       "    .dataframe thead th {\n",
       "        text-align: right;\n",
       "    }\n",
       "</style>\n",
       "<table border=\"1\" class=\"dataframe\">\n",
       "  <thead>\n",
       "    <tr style=\"text-align: right;\">\n",
       "      <th></th>\n",
       "      <th>loss</th>\n",
       "      <th>accuracy</th>\n",
       "      <th>val_loss</th>\n",
       "      <th>val_accuracy</th>\n",
       "    </tr>\n",
       "  </thead>\n",
       "  <tbody>\n",
       "    <tr>\n",
       "      <th>20</th>\n",
       "      <td>0.265209</td>\n",
       "      <td>0.905364</td>\n",
       "      <td>0.311867</td>\n",
       "      <td>0.8856</td>\n",
       "    </tr>\n",
       "    <tr>\n",
       "      <th>21</th>\n",
       "      <td>0.260228</td>\n",
       "      <td>0.906309</td>\n",
       "      <td>0.305380</td>\n",
       "      <td>0.8856</td>\n",
       "    </tr>\n",
       "    <tr>\n",
       "      <th>22</th>\n",
       "      <td>0.255627</td>\n",
       "      <td>0.907945</td>\n",
       "      <td>0.324399</td>\n",
       "      <td>0.8794</td>\n",
       "    </tr>\n",
       "    <tr>\n",
       "      <th>23</th>\n",
       "      <td>0.250591</td>\n",
       "      <td>0.909418</td>\n",
       "      <td>0.300861</td>\n",
       "      <td>0.8888</td>\n",
       "    </tr>\n",
       "    <tr>\n",
       "      <th>24</th>\n",
       "      <td>0.246327</td>\n",
       "      <td>0.911855</td>\n",
       "      <td>0.330091</td>\n",
       "      <td>0.8772</td>\n",
       "    </tr>\n",
       "    <tr>\n",
       "      <th>25</th>\n",
       "      <td>0.242003</td>\n",
       "      <td>0.914073</td>\n",
       "      <td>0.308217</td>\n",
       "      <td>0.8884</td>\n",
       "    </tr>\n",
       "    <tr>\n",
       "      <th>26</th>\n",
       "      <td>0.238639</td>\n",
       "      <td>0.914527</td>\n",
       "      <td>0.300837</td>\n",
       "      <td>0.8904</td>\n",
       "    </tr>\n",
       "    <tr>\n",
       "      <th>27</th>\n",
       "      <td>0.235069</td>\n",
       "      <td>0.915200</td>\n",
       "      <td>0.302970</td>\n",
       "      <td>0.8846</td>\n",
       "    </tr>\n",
       "    <tr>\n",
       "      <th>28</th>\n",
       "      <td>0.231289</td>\n",
       "      <td>0.916691</td>\n",
       "      <td>0.308510</td>\n",
       "      <td>0.8862</td>\n",
       "    </tr>\n",
       "    <tr>\n",
       "      <th>29</th>\n",
       "      <td>0.226198</td>\n",
       "      <td>0.919309</td>\n",
       "      <td>0.295892</td>\n",
       "      <td>0.8888</td>\n",
       "    </tr>\n",
       "  </tbody>\n",
       "</table>\n",
       "</div>"
      ],
      "text/plain": [
       "        loss  accuracy  val_loss  val_accuracy\n",
       "20  0.265209  0.905364  0.311867        0.8856\n",
       "21  0.260228  0.906309  0.305380        0.8856\n",
       "22  0.255627  0.907945  0.324399        0.8794\n",
       "23  0.250591  0.909418  0.300861        0.8888\n",
       "24  0.246327  0.911855  0.330091        0.8772\n",
       "25  0.242003  0.914073  0.308217        0.8884\n",
       "26  0.238639  0.914527  0.300837        0.8904\n",
       "27  0.235069  0.915200  0.302970        0.8846\n",
       "28  0.231289  0.916691  0.308510        0.8862\n",
       "29  0.226198  0.919309  0.295892        0.8888"
      ]
     },
     "execution_count": 15,
     "metadata": {},
     "output_type": "execute_result"
    }
   ],
   "source": [
    "from pandas import DataFrame\n",
    "df = DataFrame(history.history)\n",
    "df.tail(10)"
   ]
  },
  {
   "cell_type": "code",
   "execution_count": 16,
   "metadata": {},
   "outputs": [
    {
     "data": {
      "text/plain": [
       "(30, 4)"
      ]
     },
     "execution_count": 16,
     "metadata": {},
     "output_type": "execute_result"
    }
   ],
   "source": [
    "df.shape"
   ]
  },
  {
   "cell_type": "code",
   "execution_count": 1,
   "metadata": {},
   "outputs": [
    {
     "ename": "NameError",
     "evalue": "name 'df' is not defined",
     "output_type": "error",
     "traceback": [
      "\u001b[1;31m---------------------------------------------------------------------------\u001b[0m",
      "\u001b[1;31mNameError\u001b[0m                                 Traceback (most recent call last)",
      "\u001b[1;32m<ipython-input-1-97a70bc0a9a0>\u001b[0m in \u001b[0;36m<module>\u001b[1;34m\u001b[0m\n\u001b[0;32m      1\u001b[0m \u001b[1;32mimport\u001b[0m \u001b[0mmatplotlib\u001b[0m\u001b[1;33m.\u001b[0m\u001b[0mpyplot\u001b[0m \u001b[1;32mas\u001b[0m \u001b[0mplt\u001b[0m\u001b[1;33m\u001b[0m\u001b[1;33m\u001b[0m\u001b[0m\n\u001b[0;32m      2\u001b[0m \u001b[0mget_ipython\u001b[0m\u001b[1;33m(\u001b[0m\u001b[1;33m)\u001b[0m\u001b[1;33m.\u001b[0m\u001b[0mrun_line_magic\u001b[0m\u001b[1;33m(\u001b[0m\u001b[1;34m'matplotlib'\u001b[0m\u001b[1;33m,\u001b[0m \u001b[1;34m'inline'\u001b[0m\u001b[1;33m)\u001b[0m\u001b[1;33m\u001b[0m\u001b[1;33m\u001b[0m\u001b[0m\n\u001b[1;32m----> 3\u001b[1;33m \u001b[0mdf\u001b[0m\u001b[1;33m.\u001b[0m\u001b[0mplot\u001b[0m\u001b[1;33m(\u001b[0m\u001b[0mfigsize\u001b[0m\u001b[1;33m=\u001b[0m\u001b[1;33m(\u001b[0m\u001b[1;36m8\u001b[0m\u001b[1;33m,\u001b[0m \u001b[1;36m5\u001b[0m\u001b[1;33m)\u001b[0m\u001b[1;33m)\u001b[0m\u001b[1;33m\u001b[0m\u001b[1;33m\u001b[0m\u001b[0m\n\u001b[0m\u001b[0;32m      4\u001b[0m \u001b[0mplt\u001b[0m\u001b[1;33m.\u001b[0m\u001b[0mgrid\u001b[0m\u001b[1;33m(\u001b[0m\u001b[1;32mTrue\u001b[0m\u001b[1;33m)\u001b[0m\u001b[1;33m\u001b[0m\u001b[1;33m\u001b[0m\u001b[0m\n\u001b[0;32m      5\u001b[0m \u001b[0mplt\u001b[0m\u001b[1;33m.\u001b[0m\u001b[0mgca\u001b[0m\u001b[1;33m(\u001b[0m\u001b[1;33m)\u001b[0m\u001b[1;33m.\u001b[0m\u001b[0mset_ylim\u001b[0m\u001b[1;33m(\u001b[0m\u001b[1;36m0\u001b[0m\u001b[1;33m,\u001b[0m \u001b[1;36m1\u001b[0m\u001b[1;33m)\u001b[0m\u001b[1;33m;\u001b[0m\u001b[1;33m\u001b[0m\u001b[1;33m\u001b[0m\u001b[0m\n",
      "\u001b[1;31mNameError\u001b[0m: name 'df' is not defined"
     ]
    }
   ],
   "source": [
    "import matplotlib.pyplot as plt\n",
    "%matplotlib inline\n",
    "df.plot(figsize=(8, 5))\n",
    "plt.grid(True)\n",
    "plt.gca().set_ylim(0, 1);"
   ]
  },
  {
   "cell_type": "code",
   "execution_count": null,
   "metadata": {},
   "outputs": [],
   "source": []
  }
 ],
 "metadata": {
  "kernelspec": {
   "display_name": "Python 3",
   "language": "python",
   "name": "python3"
  },
  "language_info": {
   "codemirror_mode": {
    "name": "ipython",
    "version": 3
   },
   "file_extension": ".py",
   "mimetype": "text/x-python",
   "name": "python",
   "nbconvert_exporter": "python",
   "pygments_lexer": "ipython3",
   "version": "3.7.6"
  }
 },
 "nbformat": 4,
 "nbformat_minor": 4
}
