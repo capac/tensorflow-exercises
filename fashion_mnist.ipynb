{
 "cells": [
  {
   "cell_type": "markdown",
   "metadata": {},
   "source": [
    "# Building an image classifier using the sequential API\n",
    "\n",
    "Following step-by-step procedure in Chapter 10 of Aurélien Géron's book _Hands-on Machine Learning with Scikit-Learn, Keras and TensorFlow_."
   ]
  },
  {
   "cell_type": "code",
   "execution_count": 1,
   "metadata": {},
   "outputs": [],
   "source": [
    "from pathlib import Path, PurePath\n",
    "import pandas as pd\n",
    "from time import time\n",
    "import matplotlib.pyplot as plt\n",
    "%matplotlib inline"
   ]
  },
  {
   "cell_type": "code",
   "execution_count": 2,
   "metadata": {},
   "outputs": [
    {
     "name": "stdout",
     "output_type": "stream",
     "text": [
      "TensorFlow version: 2.1.0\n",
      "Keras version: 2.2.4-tf\n"
     ]
    }
   ],
   "source": [
    "import tensorflow\n",
    "print(f'TensorFlow version: {tensorflow.__version__}')\n",
    "from tensorflow import keras\n",
    "print(f'Keras version: {keras.__version__}')"
   ]
  },
  {
   "cell_type": "markdown",
   "metadata": {},
   "source": [
    "We will be using the _Fashion MNIST data set_, which has fashion image items instead of numbers."
   ]
  },
  {
   "cell_type": "code",
   "execution_count": 4,
   "metadata": {},
   "outputs": [],
   "source": [
    "fashion_mnist = keras.datasets.fashion_mnist\n",
    "(X_train_full, y_train_full), (X_test, y_test) = fashion_mnist.load_data()"
   ]
  },
  {
   "cell_type": "code",
   "execution_count": 5,
   "metadata": {},
   "outputs": [
    {
     "name": "stdout",
     "output_type": "stream",
     "text": [
      "X_train_full.shape: (60000, 28, 28)\n",
      "X_train_full.dtype: uint8\n"
     ]
    }
   ],
   "source": [
    "print(f'X_train_full.shape: {X_train_full.shape}')\n",
    "print(f'X_train_full.dtype: {X_train_full.dtype}')"
   ]
  },
  {
   "cell_type": "code",
   "execution_count": 6,
   "metadata": {},
   "outputs": [],
   "source": [
    "X_valid, X_train = X_train_full[:5000] / 255.0, X_train_full[5000:] / 255.0\n",
    "y_valid, y_train = y_train_full[:5000], y_train_full[5000:]"
   ]
  },
  {
   "cell_type": "code",
   "execution_count": 7,
   "metadata": {},
   "outputs": [],
   "source": [
    "class_names = [\"T-shirt/top\", \"Trouser\", \"Pullover\", \"Dress\", \"Coat\", \"Sandal\", \"Shirt\", \"Sneaker\", \"Bag\", \"Ankle boot\"]"
   ]
  },
  {
   "cell_type": "markdown",
   "metadata": {},
   "source": [
    "## Build model with sequential API"
   ]
  },
  {
   "cell_type": "code",
   "execution_count": 8,
   "metadata": {},
   "outputs": [],
   "source": [
    "model = keras.models.Sequential([keras.layers.Flatten(input_shape=[28, 28]), \\\n",
    "                                 keras.layers.Dense(300, activation=\"relu\"), \\\n",
    "                                 keras.layers.Dense(100, activation=\"relu\"), \\\n",
    "                                 keras.layers.Dense(10, activation=\"softmax\")])"
   ]
  },
  {
   "cell_type": "code",
   "execution_count": 9,
   "metadata": {},
   "outputs": [
    {
     "name": "stdout",
     "output_type": "stream",
     "text": [
      "Model: \"sequential\"\n",
      "_________________________________________________________________\n",
      "Layer (type)                 Output Shape              Param #   \n",
      "=================================================================\n",
      "flatten (Flatten)            (None, 784)               0         \n",
      "_________________________________________________________________\n",
      "dense (Dense)                (None, 300)               235500    \n",
      "_________________________________________________________________\n",
      "dense_1 (Dense)              (None, 100)               30100     \n",
      "_________________________________________________________________\n",
      "dense_2 (Dense)              (None, 10)                1010      \n",
      "=================================================================\n",
      "Total params: 266,610\n",
      "Trainable params: 266,610\n",
      "Non-trainable params: 0\n",
      "_________________________________________________________________\n"
     ]
    }
   ],
   "source": [
    "model.summary()"
   ]
  },
  {
   "cell_type": "code",
   "execution_count": 10,
   "metadata": {},
   "outputs": [
    {
     "data": {
      "text/plain": [
       "[<tensorflow.python.keras.layers.core.Flatten at 0x63505c410>,\n",
       " <tensorflow.python.keras.layers.core.Dense at 0x635053390>,\n",
       " <tensorflow.python.keras.layers.core.Dense at 0x63503eed0>,\n",
       " <tensorflow.python.keras.layers.core.Dense at 0x1069d9b50>]"
      ]
     },
     "execution_count": 10,
     "metadata": {},
     "output_type": "execute_result"
    }
   ],
   "source": [
    "model.layers"
   ]
  },
  {
   "cell_type": "code",
   "execution_count": 11,
   "metadata": {},
   "outputs": [
    {
     "data": {
      "text/plain": [
       "'dense'"
      ]
     },
     "execution_count": 11,
     "metadata": {},
     "output_type": "execute_result"
    }
   ],
   "source": [
    "hidden1 = model.layers[1]\n",
    "hidden1.name"
   ]
  },
  {
   "cell_type": "code",
   "execution_count": 12,
   "metadata": {},
   "outputs": [
    {
     "data": {
      "text/plain": [
       "False"
      ]
     },
     "execution_count": 12,
     "metadata": {},
     "output_type": "execute_result"
    }
   ],
   "source": [
    "model.get_layer('dense_2') is hidden1"
   ]
  },
  {
   "cell_type": "code",
   "execution_count": 13,
   "metadata": {},
   "outputs": [],
   "source": [
    "weights, biases = hidden1.get_weights()"
   ]
  },
  {
   "cell_type": "markdown",
   "metadata": {},
   "source": [
    "### Compiling the model"
   ]
  },
  {
   "cell_type": "code",
   "execution_count": 14,
   "metadata": {},
   "outputs": [],
   "source": [
    "model.compile(loss=\"sparse_categorical_crossentropy\", optimizer=\"sgd\", metrics=[\"accuracy\"])"
   ]
  },
  {
   "cell_type": "code",
   "execution_count": 15,
   "metadata": {},
   "outputs": [
    {
     "name": "stdout",
     "output_type": "stream",
     "text": [
      "Train on 55000 samples, validate on 5000 samples\n",
      "Epoch 1/30\n",
      "55000/55000 [==============================] - 3s 60us/sample - loss: 0.7245 - accuracy: 0.7591 - val_loss: 0.5168 - val_accuracy: 0.8264\n",
      "Epoch 2/30\n",
      "55000/55000 [==============================] - 3s 54us/sample - loss: 0.4900 - accuracy: 0.8292 - val_loss: 0.4484 - val_accuracy: 0.8454\n",
      "Epoch 3/30\n",
      "55000/55000 [==============================] - 3s 54us/sample - loss: 0.4459 - accuracy: 0.8439 - val_loss: 0.4380 - val_accuracy: 0.8492\n",
      "Epoch 4/30\n",
      "55000/55000 [==============================] - 3s 54us/sample - loss: 0.4201 - accuracy: 0.8523 - val_loss: 0.4108 - val_accuracy: 0.8566\n",
      "Epoch 5/30\n",
      "55000/55000 [==============================] - 3s 54us/sample - loss: 0.3999 - accuracy: 0.8590 - val_loss: 0.4274 - val_accuracy: 0.8556\n",
      "Epoch 6/30\n",
      "55000/55000 [==============================] - 3s 54us/sample - loss: 0.3841 - accuracy: 0.8641 - val_loss: 0.3782 - val_accuracy: 0.8696\n",
      "Epoch 7/30\n",
      "55000/55000 [==============================] - 3s 54us/sample - loss: 0.3699 - accuracy: 0.8697 - val_loss: 0.3714 - val_accuracy: 0.8724\n",
      "Epoch 8/30\n",
      "55000/55000 [==============================] - 3s 55us/sample - loss: 0.3579 - accuracy: 0.8738 - val_loss: 0.3597 - val_accuracy: 0.8744\n",
      "Epoch 9/30\n",
      "55000/55000 [==============================] - 3s 55us/sample - loss: 0.3472 - accuracy: 0.8757 - val_loss: 0.4054 - val_accuracy: 0.8546\n",
      "Epoch 10/30\n",
      "55000/55000 [==============================] - 3s 58us/sample - loss: 0.3376 - accuracy: 0.8797 - val_loss: 0.3451 - val_accuracy: 0.8786\n",
      "Epoch 11/30\n",
      "55000/55000 [==============================] - 3s 55us/sample - loss: 0.3286 - accuracy: 0.8831 - val_loss: 0.3541 - val_accuracy: 0.8732\n",
      "Epoch 12/30\n",
      "55000/55000 [==============================] - 3s 56us/sample - loss: 0.3200 - accuracy: 0.8848 - val_loss: 0.3367 - val_accuracy: 0.8804\n",
      "Epoch 13/30\n",
      "55000/55000 [==============================] - 3s 54us/sample - loss: 0.3129 - accuracy: 0.8882 - val_loss: 0.3581 - val_accuracy: 0.8746\n",
      "Epoch 14/30\n",
      "55000/55000 [==============================] - 3s 54us/sample - loss: 0.3063 - accuracy: 0.8900 - val_loss: 0.3437 - val_accuracy: 0.8768\n",
      "Epoch 15/30\n",
      "55000/55000 [==============================] - 3s 55us/sample - loss: 0.2999 - accuracy: 0.8921 - val_loss: 0.3323 - val_accuracy: 0.8826\n",
      "Epoch 16/30\n",
      "55000/55000 [==============================] - 3s 55us/sample - loss: 0.2933 - accuracy: 0.8955 - val_loss: 0.3328 - val_accuracy: 0.8842\n",
      "Epoch 17/30\n",
      "55000/55000 [==============================] - 3s 54us/sample - loss: 0.2872 - accuracy: 0.8967 - val_loss: 0.3197 - val_accuracy: 0.8888\n",
      "Epoch 18/30\n",
      "55000/55000 [==============================] - 3s 55us/sample - loss: 0.2817 - accuracy: 0.8981 - val_loss: 0.3089 - val_accuracy: 0.8876\n",
      "Epoch 19/30\n",
      "55000/55000 [==============================] - 3s 55us/sample - loss: 0.2756 - accuracy: 0.9000 - val_loss: 0.3265 - val_accuracy: 0.8814\n",
      "Epoch 20/30\n",
      "55000/55000 [==============================] - 3s 60us/sample - loss: 0.2715 - accuracy: 0.9009 - val_loss: 0.3304 - val_accuracy: 0.8798\n",
      "Epoch 21/30\n",
      "55000/55000 [==============================] - 3s 56us/sample - loss: 0.2661 - accuracy: 0.9042 - val_loss: 0.3240 - val_accuracy: 0.8834\n",
      "Epoch 22/30\n",
      "55000/55000 [==============================] - 4s 65us/sample - loss: 0.2612 - accuracy: 0.9053 - val_loss: 0.3375 - val_accuracy: 0.8792\n",
      "Epoch 23/30\n",
      "55000/55000 [==============================] - 4s 64us/sample - loss: 0.2566 - accuracy: 0.9076 - val_loss: 0.3052 - val_accuracy: 0.8898\n",
      "Epoch 24/30\n",
      "55000/55000 [==============================] - 3s 58us/sample - loss: 0.2515 - accuracy: 0.9088 - val_loss: 0.3047 - val_accuracy: 0.8900\n",
      "Epoch 25/30\n",
      "55000/55000 [==============================] - 3s 59us/sample - loss: 0.2465 - accuracy: 0.9108 - val_loss: 0.2986 - val_accuracy: 0.8912\n",
      "Epoch 26/30\n",
      "55000/55000 [==============================] - 3s 59us/sample - loss: 0.2435 - accuracy: 0.9125 - val_loss: 0.3086 - val_accuracy: 0.8860\n",
      "Epoch 27/30\n",
      "55000/55000 [==============================] - 3s 60us/sample - loss: 0.2393 - accuracy: 0.9129 - val_loss: 0.2910 - val_accuracy: 0.8952\n",
      "Epoch 28/30\n",
      "55000/55000 [==============================] - 3s 59us/sample - loss: 0.2362 - accuracy: 0.9157 - val_loss: 0.3057 - val_accuracy: 0.8902\n",
      "Epoch 29/30\n",
      "55000/55000 [==============================] - 3s 59us/sample - loss: 0.2311 - accuracy: 0.9161 - val_loss: 0.3087 - val_accuracy: 0.8930\n",
      "Epoch 30/30\n",
      "55000/55000 [==============================] - 3s 61us/sample - loss: 0.2275 - accuracy: 0.9179 - val_loss: 0.2985 - val_accuracy: 0.8886\n",
      "Time elapsed: 93.7175 sec\n"
     ]
    }
   ],
   "source": [
    "t0 = time()\n",
    "history = model.fit(X_train, y_train, epochs=30, validation_data=(X_valid, y_valid))\n",
    "print(f'Time elapsed: {time() - t0:.4f} sec')"
   ]
  },
  {
   "cell_type": "code",
   "execution_count": 16,
   "metadata": {},
   "outputs": [
    {
     "data": {
      "text/plain": [
       "{'batch_size': 32,\n",
       " 'epochs': 30,\n",
       " 'steps': 1719,\n",
       " 'samples': 55000,\n",
       " 'verbose': 0,\n",
       " 'do_validation': True,\n",
       " 'metrics': ['loss', 'accuracy', 'val_loss', 'val_accuracy']}"
      ]
     },
     "execution_count": 16,
     "metadata": {},
     "output_type": "execute_result"
    }
   ],
   "source": [
    "history.params"
   ]
  },
  {
   "cell_type": "code",
   "execution_count": 17,
   "metadata": {},
   "outputs": [
    {
     "data": {
      "text/html": [
       "<div>\n",
       "<style scoped>\n",
       "    .dataframe tbody tr th:only-of-type {\n",
       "        vertical-align: middle;\n",
       "    }\n",
       "\n",
       "    .dataframe tbody tr th {\n",
       "        vertical-align: top;\n",
       "    }\n",
       "\n",
       "    .dataframe thead th {\n",
       "        text-align: right;\n",
       "    }\n",
       "</style>\n",
       "<table border=\"1\" class=\"dataframe\">\n",
       "  <thead>\n",
       "    <tr style=\"text-align: right;\">\n",
       "      <th></th>\n",
       "      <th>loss</th>\n",
       "      <th>accuracy</th>\n",
       "      <th>val_loss</th>\n",
       "      <th>val_accuracy</th>\n",
       "    </tr>\n",
       "  </thead>\n",
       "  <tbody>\n",
       "    <tr>\n",
       "      <th>20</th>\n",
       "      <td>0.266131</td>\n",
       "      <td>0.904164</td>\n",
       "      <td>0.323955</td>\n",
       "      <td>0.8834</td>\n",
       "    </tr>\n",
       "    <tr>\n",
       "      <th>21</th>\n",
       "      <td>0.261236</td>\n",
       "      <td>0.905309</td>\n",
       "      <td>0.337468</td>\n",
       "      <td>0.8792</td>\n",
       "    </tr>\n",
       "    <tr>\n",
       "      <th>22</th>\n",
       "      <td>0.256647</td>\n",
       "      <td>0.907582</td>\n",
       "      <td>0.305201</td>\n",
       "      <td>0.8898</td>\n",
       "    </tr>\n",
       "    <tr>\n",
       "      <th>23</th>\n",
       "      <td>0.251535</td>\n",
       "      <td>0.908764</td>\n",
       "      <td>0.304710</td>\n",
       "      <td>0.8900</td>\n",
       "    </tr>\n",
       "    <tr>\n",
       "      <th>24</th>\n",
       "      <td>0.246526</td>\n",
       "      <td>0.910764</td>\n",
       "      <td>0.298592</td>\n",
       "      <td>0.8912</td>\n",
       "    </tr>\n",
       "    <tr>\n",
       "      <th>25</th>\n",
       "      <td>0.243460</td>\n",
       "      <td>0.912491</td>\n",
       "      <td>0.308627</td>\n",
       "      <td>0.8860</td>\n",
       "    </tr>\n",
       "    <tr>\n",
       "      <th>26</th>\n",
       "      <td>0.239277</td>\n",
       "      <td>0.912909</td>\n",
       "      <td>0.290976</td>\n",
       "      <td>0.8952</td>\n",
       "    </tr>\n",
       "    <tr>\n",
       "      <th>27</th>\n",
       "      <td>0.236191</td>\n",
       "      <td>0.915727</td>\n",
       "      <td>0.305651</td>\n",
       "      <td>0.8902</td>\n",
       "    </tr>\n",
       "    <tr>\n",
       "      <th>28</th>\n",
       "      <td>0.231085</td>\n",
       "      <td>0.916145</td>\n",
       "      <td>0.308737</td>\n",
       "      <td>0.8930</td>\n",
       "    </tr>\n",
       "    <tr>\n",
       "      <th>29</th>\n",
       "      <td>0.227509</td>\n",
       "      <td>0.917873</td>\n",
       "      <td>0.298480</td>\n",
       "      <td>0.8886</td>\n",
       "    </tr>\n",
       "  </tbody>\n",
       "</table>\n",
       "</div>"
      ],
      "text/plain": [
       "        loss  accuracy  val_loss  val_accuracy\n",
       "20  0.266131  0.904164  0.323955        0.8834\n",
       "21  0.261236  0.905309  0.337468        0.8792\n",
       "22  0.256647  0.907582  0.305201        0.8898\n",
       "23  0.251535  0.908764  0.304710        0.8900\n",
       "24  0.246526  0.910764  0.298592        0.8912\n",
       "25  0.243460  0.912491  0.308627        0.8860\n",
       "26  0.239277  0.912909  0.290976        0.8952\n",
       "27  0.236191  0.915727  0.305651        0.8902\n",
       "28  0.231085  0.916145  0.308737        0.8930\n",
       "29  0.227509  0.917873  0.298480        0.8886"
      ]
     },
     "execution_count": 17,
     "metadata": {},
     "output_type": "execute_result"
    }
   ],
   "source": [
    "df = pd.DataFrame(history.history)\n",
    "df.tail(10)"
   ]
  },
  {
   "cell_type": "code",
   "execution_count": 18,
   "metadata": {},
   "outputs": [
    {
     "data": {
      "image/png": "[encoded data removed]",
      "text/plain": [
       "<Figure size 720x432 with 1 Axes>"
      ]
     },
     "metadata": {
      "needs_background": "light"
     },
     "output_type": "display_data"
    }
   ],
   "source": [
    "df.plot(figsize=(10, 6))\n",
    "plt.grid(True)\n",
    "plt.gca().set_ylim(0, 1);"
   ]
  },
  {
   "cell_type": "code",
   "execution_count": null,
   "metadata": {},
   "outputs": [],
   "source": []
  }
 ],
 "metadata": {
  "kernelspec": {
   "display_name": "Python 3",
   "language": "python",
   "name": "python3"
  },
  "language_info": {
   "codemirror_mode": {
    "name": "ipython",
    "version": 3
   },
   "file_extension": ".py",
   "mimetype": "text/x-python",
   "name": "python",
   "nbconvert_exporter": "python",
   "pygments_lexer": "ipython3",
   "version": "3.7.7"
  }
 },
 "nbformat": 4,
 "nbformat_minor": 4
}
